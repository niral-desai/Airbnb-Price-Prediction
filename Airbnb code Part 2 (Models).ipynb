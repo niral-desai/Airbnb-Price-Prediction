{
 "cells": [
  {
   "cell_type": "code",
   "execution_count": 3,
   "metadata": {
    "id": "ueSdwSHCgG-M"
   },
   "outputs": [],
   "source": [
    "#Importing the libraries\n",
    "import pandas as pd\n",
    "import numpy as np\n",
    "import seaborn as sns\n",
    "import matplotlib.pyplot as plt"
   ]
  },
  {
   "cell_type": "code",
   "execution_count": 4,
   "metadata": {
    "colab": {
     "base_uri": "https://localhost:8080/",
     "height": 74
    },
    "id": "sr9A0SpCgJvw",
    "outputId": "fd7c5dd4-c710-4a7e-d1e5-c0bbfb70009c"
   },
   "outputs": [],
   "source": [
    "# from google.colab import files\n",
    "# files = files.upload()"
   ]
  },
  {
   "cell_type": "code",
   "execution_count": 5,
   "metadata": {
    "colab": {
     "base_uri": "https://localhost:8080/",
     "height": 1000
    },
    "id": "RA93NTLJgLzc",
    "outputId": "2440f2a4-f71e-4646-9e46-74033ac60e97"
   },
   "outputs": [
    {
     "name": "stderr",
     "output_type": "stream",
     "text": [
      "/var/folders/rm/pk0pvkpn14v52_zxjgtd1hv40000gn/T/ipykernel_96567/1672208203.py:3: DtypeWarning: Columns (0,1,7,14,24,27) have mixed types. Specify dtype option on import or set low_memory=False.\n",
      "  df = pd.read_csv(\"NYC_Listings_filtered.csv\")\n"
     ]
    },
    {
     "data": {
      "text/html": [
       "<div>\n",
       "<style scoped>\n",
       "    .dataframe tbody tr th:only-of-type {\n",
       "        vertical-align: middle;\n",
       "    }\n",
       "\n",
       "    .dataframe tbody tr th {\n",
       "        vertical-align: top;\n",
       "    }\n",
       "\n",
       "    .dataframe thead th {\n",
       "        text-align: right;\n",
       "    }\n",
       "</style>\n",
       "<table border=\"1\" class=\"dataframe\">\n",
       "  <thead>\n",
       "    <tr style=\"text-align: right;\">\n",
       "      <th></th>\n",
       "      <th>Unnamed: 0</th>\n",
       "      <th>index</th>\n",
       "      <th>id</th>\n",
       "      <th>source</th>\n",
       "      <th>name</th>\n",
       "      <th>description</th>\n",
       "      <th>neighborhood_overview</th>\n",
       "      <th>host_id</th>\n",
       "      <th>host_name</th>\n",
       "      <th>host_since</th>\n",
       "      <th>...</th>\n",
       "      <th>review_scores_communication</th>\n",
       "      <th>review_scores_location</th>\n",
       "      <th>review_scores_value</th>\n",
       "      <th>instant_bookable</th>\n",
       "      <th>calculated_host_listings_count</th>\n",
       "      <th>calculated_host_listings_count_private_rooms</th>\n",
       "      <th>calculated_host_listings_count_shared_rooms</th>\n",
       "      <th>reviews_per_month</th>\n",
       "      <th>bedroom</th>\n",
       "      <th>time_since_first_review</th>\n",
       "    </tr>\n",
       "  </thead>\n",
       "  <tbody>\n",
       "    <tr>\n",
       "      <th>0</th>\n",
       "      <td>0</td>\n",
       "      <td>1.0</td>\n",
       "      <td>5.203000e+03</td>\n",
       "      <td>previous scrape</td>\n",
       "      <td>Cozy Clean Guest Room - Family Apt</td>\n",
       "      <td>Our best guests are seeking a safe, clean, spa...</td>\n",
       "      <td>Our neighborhood is full of restaurants and ca...</td>\n",
       "      <td>7490</td>\n",
       "      <td>MaryEllen</td>\n",
       "      <td>2009-02-05</td>\n",
       "      <td>...</td>\n",
       "      <td>4.95</td>\n",
       "      <td>4.94</td>\n",
       "      <td>4.92</td>\n",
       "      <td>0.0</td>\n",
       "      <td>1.0</td>\n",
       "      <td>1.0</td>\n",
       "      <td>0.0</td>\n",
       "      <td>0.73</td>\n",
       "      <td>1.0</td>\n",
       "      <td>17994.0</td>\n",
       "    </tr>\n",
       "    <tr>\n",
       "      <th>1</th>\n",
       "      <td>1</td>\n",
       "      <td>2.0</td>\n",
       "      <td>5.136000e+03</td>\n",
       "      <td>city scrape</td>\n",
       "      <td>Spacious Brooklyn Duplex, Patio + Garden</td>\n",
       "      <td>We welcome you to stay in our lovely 2 br dupl...</td>\n",
       "      <td>NaN</td>\n",
       "      <td>7378</td>\n",
       "      <td>Rebecca</td>\n",
       "      <td>2009-02-03</td>\n",
       "      <td>...</td>\n",
       "      <td>5.00</td>\n",
       "      <td>4.67</td>\n",
       "      <td>5.00</td>\n",
       "      <td>0.0</td>\n",
       "      <td>1.0</td>\n",
       "      <td>0.0</td>\n",
       "      <td>0.0</td>\n",
       "      <td>0.03</td>\n",
       "      <td>2.0</td>\n",
       "      <td>17994.0</td>\n",
       "    </tr>\n",
       "    <tr>\n",
       "      <th>2</th>\n",
       "      <td>2</td>\n",
       "      <td>3.0</td>\n",
       "      <td>5.121000e+03</td>\n",
       "      <td>city scrape</td>\n",
       "      <td>BlissArtsSpace!</td>\n",
       "      <td>One room available for rent in a 2 bedroom apt...</td>\n",
       "      <td>NaN</td>\n",
       "      <td>7356</td>\n",
       "      <td>Garon</td>\n",
       "      <td>2009-02-03</td>\n",
       "      <td>...</td>\n",
       "      <td>4.91</td>\n",
       "      <td>4.47</td>\n",
       "      <td>4.52</td>\n",
       "      <td>0.0</td>\n",
       "      <td>2.0</td>\n",
       "      <td>2.0</td>\n",
       "      <td>0.0</td>\n",
       "      <td>0.30</td>\n",
       "      <td>1.0</td>\n",
       "      <td>17994.0</td>\n",
       "    </tr>\n",
       "    <tr>\n",
       "      <th>3</th>\n",
       "      <td>3</td>\n",
       "      <td>4.0</td>\n",
       "      <td>6.848000e+03</td>\n",
       "      <td>city scrape</td>\n",
       "      <td>Only 2 stops to Manhattan studio</td>\n",
       "      <td>Comfortable studio apartment with super comfor...</td>\n",
       "      <td>NaN</td>\n",
       "      <td>15991</td>\n",
       "      <td>Allen &amp; Irina</td>\n",
       "      <td>2009-05-06</td>\n",
       "      <td>...</td>\n",
       "      <td>4.80</td>\n",
       "      <td>4.67</td>\n",
       "      <td>4.56</td>\n",
       "      <td>0.0</td>\n",
       "      <td>1.0</td>\n",
       "      <td>0.0</td>\n",
       "      <td>0.0</td>\n",
       "      <td>1.13</td>\n",
       "      <td>1.0</td>\n",
       "      <td>17994.0</td>\n",
       "    </tr>\n",
       "    <tr>\n",
       "      <th>4</th>\n",
       "      <td>4</td>\n",
       "      <td>5.0</td>\n",
       "      <td>5.178000e+03</td>\n",
       "      <td>city scrape</td>\n",
       "      <td>Large Furnished Room Near B'way</td>\n",
       "      <td>Please don’t expect the luxury here just a bas...</td>\n",
       "      <td>Theater district, many restaurants around here.</td>\n",
       "      <td>8967</td>\n",
       "      <td>Shunichi</td>\n",
       "      <td>2009-03-03</td>\n",
       "      <td>...</td>\n",
       "      <td>4.45</td>\n",
       "      <td>4.88</td>\n",
       "      <td>4.39</td>\n",
       "      <td>0.0</td>\n",
       "      <td>1.0</td>\n",
       "      <td>1.0</td>\n",
       "      <td>0.0</td>\n",
       "      <td>3.38</td>\n",
       "      <td>1.0</td>\n",
       "      <td>17994.0</td>\n",
       "    </tr>\n",
       "    <tr>\n",
       "      <th>...</th>\n",
       "      <td>...</td>\n",
       "      <td>...</td>\n",
       "      <td>...</td>\n",
       "      <td>...</td>\n",
       "      <td>...</td>\n",
       "      <td>...</td>\n",
       "      <td>...</td>\n",
       "      <td>...</td>\n",
       "      <td>...</td>\n",
       "      <td>...</td>\n",
       "      <td>...</td>\n",
       "      <td>...</td>\n",
       "      <td>...</td>\n",
       "      <td>...</td>\n",
       "      <td>...</td>\n",
       "      <td>...</td>\n",
       "      <td>...</td>\n",
       "      <td>...</td>\n",
       "      <td>...</td>\n",
       "      <td>...</td>\n",
       "      <td>...</td>\n",
       "    </tr>\n",
       "    <tr>\n",
       "      <th>40573</th>\n",
       "      <td>40571.0</td>\n",
       "      <td>40572</td>\n",
       "      <td>7.726247e+17</td>\n",
       "      <td>city scrape</td>\n",
       "      <td>Modern Gem 8 Min to JFK Airport</td>\n",
       "      <td>Kick back &amp; relax in this calm, stylish, cozy ...</td>\n",
       "      <td>NaN</td>\n",
       "      <td>489891925</td>\n",
       "      <td>Germanie</td>\n",
       "      <td>2017-11-19</td>\n",
       "      <td>...</td>\n",
       "      <td>NaN</td>\n",
       "      <td>NaN</td>\n",
       "      <td>NaN</td>\n",
       "      <td>1.0</td>\n",
       "      <td>1.0</td>\n",
       "      <td>0.0</td>\n",
       "      <td>0.0</td>\n",
       "      <td>NaN</td>\n",
       "      <td>1.0</td>\n",
       "      <td>NaN</td>\n",
       "    </tr>\n",
       "    <tr>\n",
       "      <th>40574</th>\n",
       "      <td>40572.0</td>\n",
       "      <td>40573</td>\n",
       "      <td>7.726832e+17</td>\n",
       "      <td>city scrape</td>\n",
       "      <td>Dahiari</td>\n",
       "      <td>Desconecta de tus preocupaciones en este espac...</td>\n",
       "      <td>NaN</td>\n",
       "      <td>125534010</td>\n",
       "      <td>Larissa</td>\n",
       "      <td>2020-08-16</td>\n",
       "      <td>...</td>\n",
       "      <td>NaN</td>\n",
       "      <td>NaN</td>\n",
       "      <td>NaN</td>\n",
       "      <td>0.0</td>\n",
       "      <td>1.0</td>\n",
       "      <td>0.0</td>\n",
       "      <td>0.0</td>\n",
       "      <td>NaN</td>\n",
       "      <td>2.0</td>\n",
       "      <td>NaN</td>\n",
       "    </tr>\n",
       "    <tr>\n",
       "      <th>40575</th>\n",
       "      <td>40573.0</td>\n",
       "      <td>40574</td>\n",
       "      <td>7.727055e+17</td>\n",
       "      <td>city scrape</td>\n",
       "      <td>Beautiful Basement</td>\n",
       "      <td>Your family will be close to everything when y...</td>\n",
       "      <td>NaN</td>\n",
       "      <td>338424773</td>\n",
       "      <td>Md</td>\n",
       "      <td>2017-11-19</td>\n",
       "      <td>...</td>\n",
       "      <td>NaN</td>\n",
       "      <td>NaN</td>\n",
       "      <td>NaN</td>\n",
       "      <td>1.0</td>\n",
       "      <td>1.0</td>\n",
       "      <td>1.0</td>\n",
       "      <td>0.0</td>\n",
       "      <td>NaN</td>\n",
       "      <td>1.0</td>\n",
       "      <td>NaN</td>\n",
       "    </tr>\n",
       "    <tr>\n",
       "      <th>40576</th>\n",
       "      <td>40574.0</td>\n",
       "      <td>40575</td>\n",
       "      <td>7.727108e+17</td>\n",
       "      <td>city scrape</td>\n",
       "      <td>Central Park Close By - 24</td>\n",
       "      <td>This is a Three-Bedroom Apartment. You will ha...</td>\n",
       "      <td>NaN</td>\n",
       "      <td>2653479</td>\n",
       "      <td>Richard</td>\n",
       "      <td>2021-11-15</td>\n",
       "      <td>...</td>\n",
       "      <td>NaN</td>\n",
       "      <td>NaN</td>\n",
       "      <td>NaN</td>\n",
       "      <td>1.0</td>\n",
       "      <td>37.0</td>\n",
       "      <td>35.0</td>\n",
       "      <td>0.0</td>\n",
       "      <td>NaN</td>\n",
       "      <td>1.0</td>\n",
       "      <td>NaN</td>\n",
       "    </tr>\n",
       "    <tr>\n",
       "      <th>40577</th>\n",
       "      <td>40575.0</td>\n",
       "      <td>40576</td>\n",
       "      <td>7.727142e+17</td>\n",
       "      <td>city scrape</td>\n",
       "      <td>Good Vibes at The Bronx</td>\n",
       "      <td>Keep it simple at this peaceful and centrally-...</td>\n",
       "      <td>NaN</td>\n",
       "      <td>421264574</td>\n",
       "      <td>Aridio</td>\n",
       "      <td>2022-11-07</td>\n",
       "      <td>...</td>\n",
       "      <td>NaN</td>\n",
       "      <td>NaN</td>\n",
       "      <td>NaN</td>\n",
       "      <td>1.0</td>\n",
       "      <td>1.0</td>\n",
       "      <td>0.0</td>\n",
       "      <td>0.0</td>\n",
       "      <td>NaN</td>\n",
       "      <td>2.0</td>\n",
       "      <td>NaN</td>\n",
       "    </tr>\n",
       "  </tbody>\n",
       "</table>\n",
       "<p>40578 rows × 54 columns</p>\n",
       "</div>"
      ],
      "text/plain": [
       "      Unnamed: 0  index            id           source  \\\n",
       "0              0    1.0  5.203000e+03  previous scrape   \n",
       "1              1    2.0  5.136000e+03      city scrape   \n",
       "2              2    3.0  5.121000e+03      city scrape   \n",
       "3              3    4.0  6.848000e+03      city scrape   \n",
       "4              4    5.0  5.178000e+03      city scrape   \n",
       "...          ...    ...           ...              ...   \n",
       "40573    40571.0  40572  7.726247e+17      city scrape   \n",
       "40574    40572.0  40573  7.726832e+17      city scrape   \n",
       "40575    40573.0  40574  7.727055e+17      city scrape   \n",
       "40576    40574.0  40575  7.727108e+17      city scrape   \n",
       "40577    40575.0  40576  7.727142e+17      city scrape   \n",
       "\n",
       "                                           name  \\\n",
       "0            Cozy Clean Guest Room - Family Apt   \n",
       "1      Spacious Brooklyn Duplex, Patio + Garden   \n",
       "2                               BlissArtsSpace!   \n",
       "3              Only 2 stops to Manhattan studio   \n",
       "4              Large Furnished Room Near B'way　   \n",
       "...                                         ...   \n",
       "40573           Modern Gem 8 Min to JFK Airport   \n",
       "40574                                   Dahiari   \n",
       "40575                        Beautiful Basement   \n",
       "40576                Central Park Close By - 24   \n",
       "40577                   Good Vibes at The Bronx   \n",
       "\n",
       "                                             description  \\\n",
       "0      Our best guests are seeking a safe, clean, spa...   \n",
       "1      We welcome you to stay in our lovely 2 br dupl...   \n",
       "2      One room available for rent in a 2 bedroom apt...   \n",
       "3      Comfortable studio apartment with super comfor...   \n",
       "4      Please don’t expect the luxury here just a bas...   \n",
       "...                                                  ...   \n",
       "40573  Kick back & relax in this calm, stylish, cozy ...   \n",
       "40574  Desconecta de tus preocupaciones en este espac...   \n",
       "40575  Your family will be close to everything when y...   \n",
       "40576  This is a Three-Bedroom Apartment. You will ha...   \n",
       "40577  Keep it simple at this peaceful and centrally-...   \n",
       "\n",
       "                                   neighborhood_overview    host_id  \\\n",
       "0      Our neighborhood is full of restaurants and ca...       7490   \n",
       "1                                                    NaN       7378   \n",
       "2                                                    NaN       7356   \n",
       "3                                                    NaN      15991   \n",
       "4        Theater district, many restaurants around here.       8967   \n",
       "...                                                  ...        ...   \n",
       "40573                                                NaN  489891925   \n",
       "40574                                                NaN  125534010   \n",
       "40575                                                NaN  338424773   \n",
       "40576                                                NaN    2653479   \n",
       "40577                                                NaN  421264574   \n",
       "\n",
       "           host_name  host_since  ... review_scores_communication  \\\n",
       "0          MaryEllen  2009-02-05  ...                        4.95   \n",
       "1            Rebecca  2009-02-03  ...                        5.00   \n",
       "2              Garon  2009-02-03  ...                        4.91   \n",
       "3      Allen & Irina  2009-05-06  ...                        4.80   \n",
       "4           Shunichi  2009-03-03  ...                        4.45   \n",
       "...              ...         ...  ...                         ...   \n",
       "40573       Germanie  2017-11-19  ...                         NaN   \n",
       "40574        Larissa  2020-08-16  ...                         NaN   \n",
       "40575             Md  2017-11-19  ...                         NaN   \n",
       "40576        Richard  2021-11-15  ...                         NaN   \n",
       "40577         Aridio  2022-11-07  ...                         NaN   \n",
       "\n",
       "      review_scores_location review_scores_value  instant_bookable  \\\n",
       "0                       4.94                4.92               0.0   \n",
       "1                       4.67                5.00               0.0   \n",
       "2                       4.47                4.52               0.0   \n",
       "3                       4.67                4.56               0.0   \n",
       "4                       4.88                4.39               0.0   \n",
       "...                      ...                 ...               ...   \n",
       "40573                    NaN                 NaN               1.0   \n",
       "40574                    NaN                 NaN               0.0   \n",
       "40575                    NaN                 NaN               1.0   \n",
       "40576                    NaN                 NaN               1.0   \n",
       "40577                    NaN                 NaN               1.0   \n",
       "\n",
       "      calculated_host_listings_count  \\\n",
       "0                                1.0   \n",
       "1                                1.0   \n",
       "2                                2.0   \n",
       "3                                1.0   \n",
       "4                                1.0   \n",
       "...                              ...   \n",
       "40573                            1.0   \n",
       "40574                            1.0   \n",
       "40575                            1.0   \n",
       "40576                           37.0   \n",
       "40577                            1.0   \n",
       "\n",
       "       calculated_host_listings_count_private_rooms  \\\n",
       "0                                               1.0   \n",
       "1                                               0.0   \n",
       "2                                               2.0   \n",
       "3                                               0.0   \n",
       "4                                               1.0   \n",
       "...                                             ...   \n",
       "40573                                           0.0   \n",
       "40574                                           0.0   \n",
       "40575                                           1.0   \n",
       "40576                                          35.0   \n",
       "40577                                           0.0   \n",
       "\n",
       "       calculated_host_listings_count_shared_rooms reviews_per_month bedroom  \\\n",
       "0                                              0.0              0.73     1.0   \n",
       "1                                              0.0              0.03     2.0   \n",
       "2                                              0.0              0.30     1.0   \n",
       "3                                              0.0              1.13     1.0   \n",
       "4                                              0.0              3.38     1.0   \n",
       "...                                            ...               ...     ...   \n",
       "40573                                          0.0               NaN     1.0   \n",
       "40574                                          0.0               NaN     2.0   \n",
       "40575                                          0.0               NaN     1.0   \n",
       "40576                                          0.0               NaN     1.0   \n",
       "40577                                          0.0               NaN     2.0   \n",
       "\n",
       "      time_since_first_review  \n",
       "0                     17994.0  \n",
       "1                     17994.0  \n",
       "2                     17994.0  \n",
       "3                     17994.0  \n",
       "4                     17994.0  \n",
       "...                       ...  \n",
       "40573                     NaN  \n",
       "40574                     NaN  \n",
       "40575                     NaN  \n",
       "40576                     NaN  \n",
       "40577                     NaN  \n",
       "\n",
       "[40578 rows x 54 columns]"
      ]
     },
     "execution_count": 5,
     "metadata": {},
     "output_type": "execute_result"
    }
   ],
   "source": [
    "# Load the dataset into a dataframe\n",
    "\n",
    "df = pd.read_csv(\"NYC_Listings_filtered.csv\")\n",
    "df\n"
   ]
  },
  {
   "cell_type": "code",
   "execution_count": 6,
   "metadata": {
    "colab": {
     "base_uri": "https://localhost:8080/"
    },
    "id": "HHB6O1ihhs6A",
    "outputId": "33f8a1e9-c76a-400f-cd7a-bc79b5ef377d"
   },
   "outputs": [
    {
     "name": "stdout",
     "output_type": "stream",
     "text": [
      "<class 'pandas.core.frame.DataFrame'>\n",
      "RangeIndex: 40578 entries, 0 to 40577\n",
      "Data columns (total 54 columns):\n",
      " #   Column                                        Non-Null Count  Dtype  \n",
      "---  ------                                        --------------  -----  \n",
      " 0   Unnamed: 0                                    40577 non-null  object \n",
      " 1   index                                         40577 non-null  object \n",
      " 2   id                                            40577 non-null  float64\n",
      " 3   source                                        40577 non-null  object \n",
      " 4   name                                          40566 non-null  object \n",
      " 5   description                                   39832 non-null  object \n",
      " 6   neighborhood_overview                         23527 non-null  object \n",
      " 7   host_id                                       40578 non-null  object \n",
      " 8   host_name                                     40573 non-null  object \n",
      " 9   host_since                                    40573 non-null  object \n",
      " 10  host_location                                 33180 non-null  object \n",
      " 11  host_about                                    22659 non-null  object \n",
      " 12  host_response_time                            27148 non-null  object \n",
      " 13  host_response_rate                            27148 non-null  float64\n",
      " 14  host_acceptance_rate                          28581 non-null  object \n",
      " 15  host_is_superhost                             40576 non-null  float64\n",
      " 16  host_listings_count                           40571 non-null  float64\n",
      " 17  neighbourhood                                 23527 non-null  object \n",
      " 18  neighbourhood_cleansed                        40576 non-null  object \n",
      " 19  neighbourhood_group_cleansed                  40576 non-null  object \n",
      " 20  latitude                                      40576 non-null  float64\n",
      " 21  longitude                                     40576 non-null  float64\n",
      " 22  property_type                                 40576 non-null  object \n",
      " 23  room_type                                     40576 non-null  object \n",
      " 24  accommodates                                  40576 non-null  object \n",
      " 25  bathrooms_text                                40531 non-null  object \n",
      " 26  bedrooms                                      40576 non-null  float64\n",
      " 27  beds                                          39690 non-null  object \n",
      " 28  amenities                                     40575 non-null  object \n",
      " 29  price                                         40575 non-null  float64\n",
      " 30  minimum_nights                                40575 non-null  float64\n",
      " 31  maximum_nights                                40575 non-null  float64\n",
      " 32  has_availability                              40575 non-null  float64\n",
      " 33  availability_30                               40575 non-null  float64\n",
      " 34  availability_365                              40575 non-null  float64\n",
      " 35  calendar_last_scraped                         40575 non-null  object \n",
      " 36  number_of_reviews                             40576 non-null  float64\n",
      " 37  number_of_reviews_l30d                        40576 non-null  float64\n",
      " 38  first_review                                  32095 non-null  object \n",
      " 39  last_review                                   31718 non-null  object \n",
      " 40  review_scores_rating                          31717 non-null  float64\n",
      " 41  review_scores_accuracy                        31276 non-null  float64\n",
      " 42  review_scores_cleanliness                     31285 non-null  float64\n",
      " 43  review_scores_checkin                         31270 non-null  float64\n",
      " 44  review_scores_communication                   31279 non-null  float64\n",
      " 45  review_scores_location                        31267 non-null  float64\n",
      " 46  review_scores_value                           31267 non-null  float64\n",
      " 47  instant_bookable                              40574 non-null  float64\n",
      " 48  calculated_host_listings_count                40574 non-null  float64\n",
      " 49  calculated_host_listings_count_private_rooms  40574 non-null  float64\n",
      " 50  calculated_host_listings_count_shared_rooms   40574 non-null  float64\n",
      " 51  reviews_per_month                             31716 non-null  float64\n",
      " 52  bedroom                                       40574 non-null  float64\n",
      " 53  time_since_first_review                       31716 non-null  float64\n",
      "dtypes: float64(29), object(25)\n",
      "memory usage: 16.7+ MB\n"
     ]
    }
   ],
   "source": [
    "df.info()"
   ]
  },
  {
   "cell_type": "code",
   "execution_count": 7,
   "metadata": {
    "id": "DtkTRNXJm9--"
   },
   "outputs": [],
   "source": [
    "# Converting multiclass Nominal Variable Department to numeric\n",
    "# by generating dummy variables\n",
    "#df=pd.get_dummies(df)\n",
    "#print(df)"
   ]
  },
  {
   "cell_type": "code",
   "execution_count": 8,
   "metadata": {
    "colab": {
     "base_uri": "https://localhost:8080/"
    },
    "id": "jvNeMoZynM1w",
    "outputId": "6eaa4774-ec46-41f0-89f0-667c641f2eb2"
   },
   "outputs": [
    {
     "data": {
      "text/plain": [
       "host_about                                      17919\n",
       "neighbourhood                                   17051\n",
       "neighborhood_overview                           17051\n",
       "host_response_rate                              13430\n",
       "host_response_time                              13430\n",
       "host_acceptance_rate                            11997\n",
       "review_scores_value                              9311\n",
       "review_scores_location                           9311\n",
       "review_scores_checkin                            9308\n",
       "review_scores_accuracy                           9302\n",
       "review_scores_communication                      9299\n",
       "review_scores_cleanliness                        9293\n",
       "reviews_per_month                                8862\n",
       "time_since_first_review                          8862\n",
       "review_scores_rating                             8861\n",
       "last_review                                      8860\n",
       "first_review                                     8483\n",
       "host_location                                    7398\n",
       "beds                                              888\n",
       "description                                       746\n",
       "bathrooms_text                                     47\n",
       "name                                               12\n",
       "host_listings_count                                 7\n",
       "host_since                                          5\n",
       "host_name                                           5\n",
       "bedroom                                             4\n",
       "calculated_host_listings_count_shared_rooms         4\n",
       "calculated_host_listings_count_private_rooms        4\n",
       "calculated_host_listings_count                      4\n",
       "instant_bookable                                    4\n",
       "availability_30                                     3\n",
       "calendar_last_scraped                               3\n",
       "availability_365                                    3\n",
       "price                                               3\n",
       "has_availability                                    3\n",
       "maximum_nights                                      3\n",
       "minimum_nights                                      3\n",
       "amenities                                           3\n",
       "host_is_superhost                                   2\n",
       "neighbourhood_group_cleansed                        2\n",
       "number_of_reviews                                   2\n",
       "neighbourhood_cleansed                              2\n",
       "number_of_reviews_l30d                              2\n",
       "latitude                                            2\n",
       "bedrooms                                            2\n",
       "accommodates                                        2\n",
       "room_type                                           2\n",
       "property_type                                       2\n",
       "longitude                                           2\n",
       "index                                               1\n",
       "source                                              1\n",
       "id                                                  1\n",
       "Unnamed: 0                                          1\n",
       "host_id                                             0\n",
       "dtype: int64"
      ]
     },
     "execution_count": 8,
     "metadata": {},
     "output_type": "execute_result"
    }
   ],
   "source": [
    "df.isna().sum().sort_values(ascending= False)"
   ]
  },
  {
   "cell_type": "code",
   "execution_count": 9,
   "metadata": {
    "colab": {
     "base_uri": "https://localhost:8080/"
    },
    "id": "NQwzHVwttECW",
    "outputId": "2ace39f8-65f3-4304-fc6c-cc8b341e3e44"
   },
   "outputs": [
    {
     "data": {
      "text/plain": [
       "0        Welcome to family life with my oldest two away...\n",
       "1        Rebecca is an artist/designer, and Henoch is i...\n",
       "2         I am an artist(painter, filmmaker) and curato...\n",
       "3        We love to travel. When we travel we like to s...\n",
       "4        I used to work for a financial industry but no...\n",
       "                               ...                        \n",
       "40573                                                  NaN\n",
       "40574                                                  NaN\n",
       "40575                                                  NaN\n",
       "40576                   I love to travel and meet people. \n",
       "40577                                                  NaN\n",
       "Name: host_about, Length: 40578, dtype: object"
      ]
     },
     "execution_count": 9,
     "metadata": {},
     "output_type": "execute_result"
    }
   ],
   "source": [
    "df['host_about']"
   ]
  },
  {
   "cell_type": "code",
   "execution_count": 10,
   "metadata": {
    "id": "sP7XhoACtfWO"
   },
   "outputs": [],
   "source": [
    "df.drop('host_about', axis=1, inplace=True)"
   ]
  },
  {
   "cell_type": "code",
   "execution_count": 11,
   "metadata": {
    "colab": {
     "base_uri": "https://localhost:8080/"
    },
    "id": "K5B-nGQDttQE",
    "outputId": "e2ff7244-7772-47fc-d7eb-aac610316df7"
   },
   "outputs": [
    {
     "data": {
      "text/plain": [
       "neighbourhood                                   17051\n",
       "neighborhood_overview                           17051\n",
       "host_response_time                              13430\n",
       "host_response_rate                              13430\n",
       "host_acceptance_rate                            11997\n",
       "review_scores_value                              9311\n",
       "review_scores_location                           9311\n",
       "review_scores_checkin                            9308\n",
       "review_scores_accuracy                           9302\n",
       "review_scores_communication                      9299\n",
       "review_scores_cleanliness                        9293\n",
       "reviews_per_month                                8862\n",
       "time_since_first_review                          8862\n",
       "review_scores_rating                             8861\n",
       "last_review                                      8860\n",
       "first_review                                     8483\n",
       "host_location                                    7398\n",
       "beds                                              888\n",
       "description                                       746\n",
       "bathrooms_text                                     47\n",
       "name                                               12\n",
       "host_listings_count                                 7\n",
       "host_since                                          5\n",
       "host_name                                           5\n",
       "bedroom                                             4\n",
       "calculated_host_listings_count_shared_rooms         4\n",
       "calculated_host_listings_count_private_rooms        4\n",
       "calculated_host_listings_count                      4\n",
       "instant_bookable                                    4\n",
       "availability_30                                     3\n",
       "calendar_last_scraped                               3\n",
       "availability_365                                    3\n",
       "price                                               3\n",
       "has_availability                                    3\n",
       "maximum_nights                                      3\n",
       "minimum_nights                                      3\n",
       "amenities                                           3\n",
       "host_is_superhost                                   2\n",
       "neighbourhood_group_cleansed                        2\n",
       "number_of_reviews                                   2\n",
       "neighbourhood_cleansed                              2\n",
       "number_of_reviews_l30d                              2\n",
       "latitude                                            2\n",
       "bedrooms                                            2\n",
       "accommodates                                        2\n",
       "room_type                                           2\n",
       "property_type                                       2\n",
       "longitude                                           2\n",
       "index                                               1\n",
       "source                                              1\n",
       "id                                                  1\n",
       "Unnamed: 0                                          1\n",
       "host_id                                             0\n",
       "dtype: int64"
      ]
     },
     "execution_count": 11,
     "metadata": {},
     "output_type": "execute_result"
    }
   ],
   "source": [
    "df.isna().sum().sort_values(ascending= False)"
   ]
  },
  {
   "cell_type": "code",
   "execution_count": 12,
   "metadata": {
    "colab": {
     "base_uri": "https://localhost:8080/"
    },
    "id": "_DW4jNKTtzj5",
    "outputId": "9389ac6d-8bf6-4068-97f9-f754790e27d7"
   },
   "outputs": [
    {
     "data": {
      "text/plain": [
       "New York, United States                       9186\n",
       "Brooklyn, New York, United States             8926\n",
       "Queens, New York, United States               3469\n",
       "Bronx, New York, United States                 489\n",
       "The Bronx, New York, United States             391\n",
       "                                              ... \n",
       "Jamaica , ny, United States                      1\n",
       "New York, New York , United States               1\n",
       " Crown Heights,NY, New York, United States       1\n",
       "Corona , New York, United States                 1\n",
       "Valley Stream, New York, United States           1\n",
       "Name: neighbourhood, Length: 194, dtype: int64"
      ]
     },
     "execution_count": 12,
     "metadata": {},
     "output_type": "execute_result"
    }
   ],
   "source": [
    "df['neighbourhood'].value_counts()"
   ]
  },
  {
   "cell_type": "code",
   "execution_count": 13,
   "metadata": {
    "colab": {
     "base_uri": "https://localhost:8080/"
    },
    "id": "RsC_WwvAtzgy",
    "outputId": "05731c6b-f94d-4350-eceb-c7c787fff01a"
   },
   "outputs": [
    {
     "name": "stdout",
     "output_type": "stream",
     "text": [
      "|                                              |           0 |\n",
      "|:---------------------------------------------|------------:|\n",
      "| neighbourhood                                | 42.0203     |\n",
      "| neighborhood_overview                        | 42.0203     |\n",
      "| host_response_time                           | 33.0968     |\n",
      "| host_response_rate                           | 33.0968     |\n",
      "| host_acceptance_rate                         | 29.5653     |\n",
      "| review_scores_value                          | 22.9459     |\n",
      "| review_scores_location                       | 22.9459     |\n",
      "| review_scores_checkin                        | 22.9385     |\n",
      "| review_scores_accuracy                       | 22.9238     |\n",
      "| review_scores_communication                  | 22.9164     |\n",
      "| review_scores_cleanliness                    | 22.9016     |\n",
      "| reviews_per_month                            | 21.8394     |\n",
      "| time_since_first_review                      | 21.8394     |\n",
      "| review_scores_rating                         | 21.837      |\n",
      "| last_review                                  | 21.8345     |\n",
      "| first_review                                 | 20.9054     |\n",
      "| host_location                                | 18.2316     |\n",
      "| beds                                         |  2.18838    |\n",
      "| description                                  |  1.83843    |\n",
      "| bathrooms_text                               |  0.115826   |\n",
      "| name                                         |  0.0295727  |\n",
      "| host_listings_count                          |  0.0172507  |\n",
      "| host_since                                   |  0.0123219  |\n",
      "| host_name                                    |  0.0123219  |\n",
      "| bedroom                                      |  0.00985756 |\n",
      "| calculated_host_listings_count_shared_rooms  |  0.00985756 |\n",
      "| calculated_host_listings_count_private_rooms |  0.00985756 |\n",
      "| calculated_host_listings_count               |  0.00985756 |\n",
      "| instant_bookable                             |  0.00985756 |\n",
      "| availability_30                              |  0.00739317 |\n",
      "| calendar_last_scraped                        |  0.00739317 |\n",
      "| availability_365                             |  0.00739317 |\n",
      "| price                                        |  0.00739317 |\n",
      "| has_availability                             |  0.00739317 |\n",
      "| maximum_nights                               |  0.00739317 |\n",
      "| minimum_nights                               |  0.00739317 |\n",
      "| amenities                                    |  0.00739317 |\n",
      "| host_is_superhost                            |  0.00492878 |\n",
      "| neighbourhood_group_cleansed                 |  0.00492878 |\n",
      "| number_of_reviews                            |  0.00492878 |\n",
      "| neighbourhood_cleansed                       |  0.00492878 |\n",
      "| number_of_reviews_l30d                       |  0.00492878 |\n",
      "| latitude                                     |  0.00492878 |\n",
      "| bedrooms                                     |  0.00492878 |\n",
      "| accommodates                                 |  0.00492878 |\n",
      "| room_type                                    |  0.00492878 |\n",
      "| property_type                                |  0.00492878 |\n",
      "| longitude                                    |  0.00492878 |\n",
      "| index                                        |  0.00246439 |\n",
      "| source                                       |  0.00246439 |\n",
      "| id                                           |  0.00246439 |\n",
      "| Unnamed: 0                                   |  0.00246439 |\n",
      "| host_id                                      |  0          |\n"
     ]
    }
   ],
   "source": [
    "missing_values = df.isnull().mean()*100\n",
    "missing_values = missing_values.sort_values(ascending = False)\n",
    "print(missing_values.to_markdown())"
   ]
  },
  {
   "cell_type": "code",
   "execution_count": 14,
   "metadata": {
    "colab": {
     "base_uri": "https://localhost:8080/"
    },
    "id": "cduqt-oLtzd-",
    "outputId": "803cfb56-2448-49be-b654-27e483593b9a"
   },
   "outputs": [
    {
     "data": {
      "text/plain": [
       "(40578, 53)"
      ]
     },
     "execution_count": 14,
     "metadata": {},
     "output_type": "execute_result"
    }
   ],
   "source": [
    "df.shape"
   ]
  },
  {
   "cell_type": "code",
   "execution_count": 15,
   "metadata": {
    "colab": {
     "base_uri": "https://localhost:8080/"
    },
    "id": "QJGn46QGtzb1",
    "outputId": "27948185-2aa2-45aa-a7ec-b0ad6b839126"
   },
   "outputs": [
    {
     "data": {
      "text/plain": [
       "2.4040881256705418"
      ]
     },
     "execution_count": 15,
     "metadata": {},
     "output_type": "execute_result"
    }
   ],
   "source": [
    "# checking how much did we control the skewness on price \n",
    "df.price.skew()"
   ]
  },
  {
   "cell_type": "code",
   "execution_count": 16,
   "metadata": {
    "id": "9aVmtscUtzZB"
   },
   "outputs": [],
   "source": [
    "import warnings\n",
    "warnings.filterwarnings(\"ignore\")"
   ]
  },
  {
   "cell_type": "code",
   "execution_count": 17,
   "metadata": {
    "colab": {
     "base_uri": "https://localhost:8080/",
     "height": 1000
    },
    "id": "jRJnoZPHzRS0",
    "outputId": "46da9eca-c31c-4e91-d43b-89e135cd6d0c"
   },
   "outputs": [
    {
     "data": {
      "image/png": "[encoded data removed]",
      "text/plain": [
       "<Figure size 2000x2000 with 30 Axes>"
      ]
     },
     "metadata": {},
     "output_type": "display_data"
    }
   ],
   "source": [
    "df.hist(figsize=(20,20));"
   ]
  },
  {
   "cell_type": "code",
   "execution_count": 18,
   "metadata": {
    "id": "imw6PNnetzV_"
   },
   "outputs": [],
   "source": [
    "df.last_review = pd.to_datetime(df.last_review, errors='coerce') # Converting to datetime"
   ]
  },
  {
   "cell_type": "code",
   "execution_count": 19,
   "metadata": {
    "id": "NEHlUNeE2U9U"
   },
   "outputs": [],
   "source": [
    "# Calculating the number of days between the first review and the date the data was scraped\n",
    "df['time_since_first_review'] = (pd.datetime(2019, 4, 9) - df.last_review).astype('timedelta64[D]')"
   ]
  },
  {
   "cell_type": "code",
   "execution_count": 20,
   "metadata": {
    "id": "sS4NtesS2wG2"
   },
   "outputs": [],
   "source": [
    "df['first_review'] = pd.to_datetime(df['first_review'], errors='coerce')"
   ]
  },
  {
   "cell_type": "code",
   "execution_count": 21,
   "metadata": {
    "colab": {
     "base_uri": "https://localhost:8080/",
     "height": 445
    },
    "id": "CJhfhVOgtzL6",
    "outputId": "29120e1d-05c3-4a2d-906a-ce87441ebe8f"
   },
   "outputs": [
    {
     "data": {
      "image/png": "[encoded data removed]",
      "text/plain": [
       "<Figure size 1500x500 with 1 Axes>"
      ]
     },
     "metadata": {},
     "output_type": "display_data"
    }
   ],
   "source": [
    "# Distribution of the number of days since first review\n",
    "df.first_review.hist(figsize=(15,5), bins=30);"
   ]
  },
  {
   "cell_type": "code",
   "execution_count": 22,
   "metadata": {
    "id": "1KtHnzn_4Lz0"
   },
   "outputs": [],
   "source": [
    "df_original = df.copy()"
   ]
  },
  {
   "cell_type": "code",
   "execution_count": 23,
   "metadata": {
    "id": "XHGlkMWCtzJT"
   },
   "outputs": [],
   "source": [
    "import random \n",
    "\n",
    "def randomiseMissingData(df2):\n",
    "    \"randomise missing data for DataFrame (within a column)\"\n",
    "    df = df2.copy()\n",
    "    for col in df.columns:\n",
    "        data = df[col]\n",
    "        mask = data.isnull()\n",
    "        samples = random.choices( data[~mask].values , k = mask.sum() )\n",
    "        data[mask] = samples\n",
    "\n",
    "    return df"
   ]
  },
  {
   "cell_type": "code",
   "execution_count": 24,
   "metadata": {
    "id": "9irWVeXltzGo"
   },
   "outputs": [],
   "source": [
    "df_new = randomiseMissingData(df)"
   ]
  },
  {
   "cell_type": "code",
   "execution_count": 25,
   "metadata": {
    "colab": {
     "base_uri": "https://localhost:8080/"
    },
    "id": "YLtEF_8GtzEA",
    "outputId": "fc97c6c8-461a-497c-eacd-1a81a2314a7b"
   },
   "outputs": [
    {
     "name": "stdout",
     "output_type": "stream",
     "text": [
      "|                                              |   0 |\n",
      "|:---------------------------------------------|----:|\n",
      "| Unnamed: 0                                   |   0 |\n",
      "| amenities                                    |   0 |\n",
      "| minimum_nights                               |   0 |\n",
      "| maximum_nights                               |   0 |\n",
      "| has_availability                             |   0 |\n",
      "| availability_30                              |   0 |\n",
      "| availability_365                             |   0 |\n",
      "| calendar_last_scraped                        |   0 |\n",
      "| number_of_reviews                            |   0 |\n",
      "| number_of_reviews_l30d                       |   0 |\n",
      "| first_review                                 |   0 |\n",
      "| last_review                                  |   0 |\n",
      "| review_scores_rating                         |   0 |\n",
      "| review_scores_accuracy                       |   0 |\n",
      "| review_scores_cleanliness                    |   0 |\n",
      "| review_scores_checkin                        |   0 |\n",
      "| review_scores_communication                  |   0 |\n",
      "| review_scores_location                       |   0 |\n",
      "| review_scores_value                          |   0 |\n",
      "| instant_bookable                             |   0 |\n",
      "| calculated_host_listings_count               |   0 |\n",
      "| calculated_host_listings_count_private_rooms |   0 |\n",
      "| calculated_host_listings_count_shared_rooms  |   0 |\n",
      "| reviews_per_month                            |   0 |\n",
      "| bedroom                                      |   0 |\n",
      "| price                                        |   0 |\n",
      "| beds                                         |   0 |\n",
      "| index                                        |   0 |\n",
      "| bedrooms                                     |   0 |\n",
      "| id                                           |   0 |\n",
      "| source                                       |   0 |\n",
      "| name                                         |   0 |\n",
      "| description                                  |   0 |\n",
      "| neighborhood_overview                        |   0 |\n",
      "| host_id                                      |   0 |\n",
      "| host_name                                    |   0 |\n",
      "| host_since                                   |   0 |\n",
      "| host_location                                |   0 |\n",
      "| host_response_time                           |   0 |\n",
      "| host_response_rate                           |   0 |\n",
      "| host_acceptance_rate                         |   0 |\n",
      "| host_is_superhost                            |   0 |\n",
      "| host_listings_count                          |   0 |\n",
      "| neighbourhood                                |   0 |\n",
      "| neighbourhood_cleansed                       |   0 |\n",
      "| neighbourhood_group_cleansed                 |   0 |\n",
      "| latitude                                     |   0 |\n",
      "| longitude                                    |   0 |\n",
      "| property_type                                |   0 |\n",
      "| room_type                                    |   0 |\n",
      "| accommodates                                 |   0 |\n",
      "| bathrooms_text                               |   0 |\n",
      "| time_since_first_review                      |   0 |\n"
     ]
    }
   ],
   "source": [
    "missing_values = df_new.isnull().mean()*100\n",
    "missing_values = missing_values.sort_values(ascending = False)\n",
    "print(missing_values.to_markdown())"
   ]
  },
  {
   "cell_type": "code",
   "execution_count": 26,
   "metadata": {
    "colab": {
     "base_uri": "https://localhost:8080/",
     "height": 612
    },
    "id": "_jsWB46ItzBa",
    "outputId": "284f7ecd-689d-4c1a-a06b-00f7ceb4adfa"
   },
   "outputs": [
    {
     "data": {
      "text/html": [
       "<div>\n",
       "<style scoped>\n",
       "    .dataframe tbody tr th:only-of-type {\n",
       "        vertical-align: middle;\n",
       "    }\n",
       "\n",
       "    .dataframe tbody tr th {\n",
       "        vertical-align: top;\n",
       "    }\n",
       "\n",
       "    .dataframe thead th {\n",
       "        text-align: right;\n",
       "    }\n",
       "</style>\n",
       "<table border=\"1\" class=\"dataframe\">\n",
       "  <thead>\n",
       "    <tr style=\"text-align: right;\">\n",
       "      <th></th>\n",
       "      <th>Unnamed: 0</th>\n",
       "      <th>index</th>\n",
       "      <th>id</th>\n",
       "      <th>source</th>\n",
       "      <th>name</th>\n",
       "      <th>description</th>\n",
       "      <th>neighborhood_overview</th>\n",
       "      <th>host_id</th>\n",
       "      <th>host_name</th>\n",
       "      <th>host_since</th>\n",
       "      <th>...</th>\n",
       "      <th>review_scores_communication</th>\n",
       "      <th>review_scores_location</th>\n",
       "      <th>review_scores_value</th>\n",
       "      <th>instant_bookable</th>\n",
       "      <th>calculated_host_listings_count</th>\n",
       "      <th>calculated_host_listings_count_private_rooms</th>\n",
       "      <th>calculated_host_listings_count_shared_rooms</th>\n",
       "      <th>reviews_per_month</th>\n",
       "      <th>bedroom</th>\n",
       "      <th>time_since_first_review</th>\n",
       "    </tr>\n",
       "  </thead>\n",
       "  <tbody>\n",
       "    <tr>\n",
       "      <th>0</th>\n",
       "      <td>0</td>\n",
       "      <td>1.0</td>\n",
       "      <td>5203.0</td>\n",
       "      <td>previous scrape</td>\n",
       "      <td>Cozy Clean Guest Room - Family Apt</td>\n",
       "      <td>Our best guests are seeking a safe, clean, spa...</td>\n",
       "      <td>Our neighborhood is full of restaurants and ca...</td>\n",
       "      <td>7490</td>\n",
       "      <td>MaryEllen</td>\n",
       "      <td>2009-02-05</td>\n",
       "      <td>...</td>\n",
       "      <td>4.95</td>\n",
       "      <td>4.94</td>\n",
       "      <td>4.92</td>\n",
       "      <td>0.0</td>\n",
       "      <td>1.0</td>\n",
       "      <td>1.0</td>\n",
       "      <td>0.0</td>\n",
       "      <td>0.73</td>\n",
       "      <td>1.0</td>\n",
       "      <td>17994.0</td>\n",
       "    </tr>\n",
       "    <tr>\n",
       "      <th>1</th>\n",
       "      <td>1</td>\n",
       "      <td>2.0</td>\n",
       "      <td>5136.0</td>\n",
       "      <td>city scrape</td>\n",
       "      <td>Spacious Brooklyn Duplex, Patio + Garden</td>\n",
       "      <td>We welcome you to stay in our lovely 2 br dupl...</td>\n",
       "      <td>The neighborhood is nice and central with good...</td>\n",
       "      <td>7378</td>\n",
       "      <td>Rebecca</td>\n",
       "      <td>2009-02-03</td>\n",
       "      <td>...</td>\n",
       "      <td>5.00</td>\n",
       "      <td>4.67</td>\n",
       "      <td>5.00</td>\n",
       "      <td>0.0</td>\n",
       "      <td>1.0</td>\n",
       "      <td>0.0</td>\n",
       "      <td>0.0</td>\n",
       "      <td>0.03</td>\n",
       "      <td>2.0</td>\n",
       "      <td>17994.0</td>\n",
       "    </tr>\n",
       "    <tr>\n",
       "      <th>2</th>\n",
       "      <td>2</td>\n",
       "      <td>3.0</td>\n",
       "      <td>5121.0</td>\n",
       "      <td>city scrape</td>\n",
       "      <td>BlissArtsSpace!</td>\n",
       "      <td>One room available for rent in a 2 bedroom apt...</td>\n",
       "      <td>It is a very central location it is in the hea...</td>\n",
       "      <td>7356</td>\n",
       "      <td>Garon</td>\n",
       "      <td>2009-02-03</td>\n",
       "      <td>...</td>\n",
       "      <td>4.91</td>\n",
       "      <td>4.47</td>\n",
       "      <td>4.52</td>\n",
       "      <td>0.0</td>\n",
       "      <td>2.0</td>\n",
       "      <td>2.0</td>\n",
       "      <td>0.0</td>\n",
       "      <td>0.30</td>\n",
       "      <td>1.0</td>\n",
       "      <td>17994.0</td>\n",
       "    </tr>\n",
       "    <tr>\n",
       "      <th>3</th>\n",
       "      <td>3</td>\n",
       "      <td>4.0</td>\n",
       "      <td>6848.0</td>\n",
       "      <td>city scrape</td>\n",
       "      <td>Only 2 stops to Manhattan studio</td>\n",
       "      <td>Comfortable studio apartment with super comfor...</td>\n",
       "      <td>Rockaway Beach is a unique town as it is a com...</td>\n",
       "      <td>15991</td>\n",
       "      <td>Allen &amp; Irina</td>\n",
       "      <td>2009-05-06</td>\n",
       "      <td>...</td>\n",
       "      <td>4.80</td>\n",
       "      <td>4.67</td>\n",
       "      <td>4.56</td>\n",
       "      <td>0.0</td>\n",
       "      <td>1.0</td>\n",
       "      <td>0.0</td>\n",
       "      <td>0.0</td>\n",
       "      <td>1.13</td>\n",
       "      <td>1.0</td>\n",
       "      <td>17994.0</td>\n",
       "    </tr>\n",
       "    <tr>\n",
       "      <th>4</th>\n",
       "      <td>4</td>\n",
       "      <td>5.0</td>\n",
       "      <td>5178.0</td>\n",
       "      <td>city scrape</td>\n",
       "      <td>Large Furnished Room Near B'way</td>\n",
       "      <td>Please don’t expect the luxury here just a bas...</td>\n",
       "      <td>Theater district, many restaurants around here.</td>\n",
       "      <td>8967</td>\n",
       "      <td>Shunichi</td>\n",
       "      <td>2009-03-03</td>\n",
       "      <td>...</td>\n",
       "      <td>4.45</td>\n",
       "      <td>4.88</td>\n",
       "      <td>4.39</td>\n",
       "      <td>0.0</td>\n",
       "      <td>1.0</td>\n",
       "      <td>1.0</td>\n",
       "      <td>0.0</td>\n",
       "      <td>3.38</td>\n",
       "      <td>1.0</td>\n",
       "      <td>17994.0</td>\n",
       "    </tr>\n",
       "  </tbody>\n",
       "</table>\n",
       "<p>5 rows × 53 columns</p>\n",
       "</div>"
      ],
      "text/plain": [
       "  Unnamed: 0 index      id           source  \\\n",
       "0          0   1.0  5203.0  previous scrape   \n",
       "1          1   2.0  5136.0      city scrape   \n",
       "2          2   3.0  5121.0      city scrape   \n",
       "3          3   4.0  6848.0      city scrape   \n",
       "4          4   5.0  5178.0      city scrape   \n",
       "\n",
       "                                       name  \\\n",
       "0        Cozy Clean Guest Room - Family Apt   \n",
       "1  Spacious Brooklyn Duplex, Patio + Garden   \n",
       "2                           BlissArtsSpace!   \n",
       "3          Only 2 stops to Manhattan studio   \n",
       "4          Large Furnished Room Near B'way　   \n",
       "\n",
       "                                         description  \\\n",
       "0  Our best guests are seeking a safe, clean, spa...   \n",
       "1  We welcome you to stay in our lovely 2 br dupl...   \n",
       "2  One room available for rent in a 2 bedroom apt...   \n",
       "3  Comfortable studio apartment with super comfor...   \n",
       "4  Please don’t expect the luxury here just a bas...   \n",
       "\n",
       "                               neighborhood_overview host_id      host_name  \\\n",
       "0  Our neighborhood is full of restaurants and ca...    7490      MaryEllen   \n",
       "1  The neighborhood is nice and central with good...    7378        Rebecca   \n",
       "2  It is a very central location it is in the hea...    7356          Garon   \n",
       "3  Rockaway Beach is a unique town as it is a com...   15991  Allen & Irina   \n",
       "4    Theater district, many restaurants around here.    8967       Shunichi   \n",
       "\n",
       "   host_since  ... review_scores_communication review_scores_location  \\\n",
       "0  2009-02-05  ...                        4.95                   4.94   \n",
       "1  2009-02-03  ...                        5.00                   4.67   \n",
       "2  2009-02-03  ...                        4.91                   4.47   \n",
       "3  2009-05-06  ...                        4.80                   4.67   \n",
       "4  2009-03-03  ...                        4.45                   4.88   \n",
       "\n",
       "   review_scores_value instant_bookable  calculated_host_listings_count  \\\n",
       "0                 4.92              0.0                             1.0   \n",
       "1                 5.00              0.0                             1.0   \n",
       "2                 4.52              0.0                             2.0   \n",
       "3                 4.56              0.0                             1.0   \n",
       "4                 4.39              0.0                             1.0   \n",
       "\n",
       "   calculated_host_listings_count_private_rooms  \\\n",
       "0                                           1.0   \n",
       "1                                           0.0   \n",
       "2                                           2.0   \n",
       "3                                           0.0   \n",
       "4                                           1.0   \n",
       "\n",
       "  calculated_host_listings_count_shared_rooms reviews_per_month bedroom  \\\n",
       "0                                         0.0              0.73     1.0   \n",
       "1                                         0.0              0.03     2.0   \n",
       "2                                         0.0              0.30     1.0   \n",
       "3                                         0.0              1.13     1.0   \n",
       "4                                         0.0              3.38     1.0   \n",
       "\n",
       "   time_since_first_review  \n",
       "0                  17994.0  \n",
       "1                  17994.0  \n",
       "2                  17994.0  \n",
       "3                  17994.0  \n",
       "4                  17994.0  \n",
       "\n",
       "[5 rows x 53 columns]"
      ]
     },
     "execution_count": 26,
     "metadata": {},
     "output_type": "execute_result"
    }
   ],
   "source": [
    "df_new.head()"
   ]
  },
  {
   "cell_type": "code",
   "execution_count": 27,
   "metadata": {
    "id": "thltXyr5ty-M"
   },
   "outputs": [],
   "source": [
    "df_new.drop('Unnamed: 0', axis=1, inplace=True)"
   ]
  },
  {
   "cell_type": "code",
   "execution_count": 28,
   "metadata": {
    "id": "ei0WmtI4ty24"
   },
   "outputs": [],
   "source": [
    "df_new.drop('index', axis=1, inplace=True)"
   ]
  },
  {
   "cell_type": "code",
   "execution_count": 29,
   "metadata": {
    "colab": {
     "base_uri": "https://localhost:8080/",
     "height": 595
    },
    "id": "QeVLajSe71w8",
    "outputId": "0961cc12-ba63-44ef-bd4f-0f28ea8b3887"
   },
   "outputs": [
    {
     "data": {
      "text/html": [
       "<div>\n",
       "<style scoped>\n",
       "    .dataframe tbody tr th:only-of-type {\n",
       "        vertical-align: middle;\n",
       "    }\n",
       "\n",
       "    .dataframe tbody tr th {\n",
       "        vertical-align: top;\n",
       "    }\n",
       "\n",
       "    .dataframe thead th {\n",
       "        text-align: right;\n",
       "    }\n",
       "</style>\n",
       "<table border=\"1\" class=\"dataframe\">\n",
       "  <thead>\n",
       "    <tr style=\"text-align: right;\">\n",
       "      <th></th>\n",
       "      <th>id</th>\n",
       "      <th>source</th>\n",
       "      <th>name</th>\n",
       "      <th>description</th>\n",
       "      <th>neighborhood_overview</th>\n",
       "      <th>host_id</th>\n",
       "      <th>host_name</th>\n",
       "      <th>host_since</th>\n",
       "      <th>host_location</th>\n",
       "      <th>host_response_time</th>\n",
       "      <th>...</th>\n",
       "      <th>review_scores_communication</th>\n",
       "      <th>review_scores_location</th>\n",
       "      <th>review_scores_value</th>\n",
       "      <th>instant_bookable</th>\n",
       "      <th>calculated_host_listings_count</th>\n",
       "      <th>calculated_host_listings_count_private_rooms</th>\n",
       "      <th>calculated_host_listings_count_shared_rooms</th>\n",
       "      <th>reviews_per_month</th>\n",
       "      <th>bedroom</th>\n",
       "      <th>time_since_first_review</th>\n",
       "    </tr>\n",
       "  </thead>\n",
       "  <tbody>\n",
       "    <tr>\n",
       "      <th>0</th>\n",
       "      <td>5203.0</td>\n",
       "      <td>previous scrape</td>\n",
       "      <td>Cozy Clean Guest Room - Family Apt</td>\n",
       "      <td>Our best guests are seeking a safe, clean, spa...</td>\n",
       "      <td>Our neighborhood is full of restaurants and ca...</td>\n",
       "      <td>7490</td>\n",
       "      <td>MaryEllen</td>\n",
       "      <td>2009-02-05</td>\n",
       "      <td>New York, NY</td>\n",
       "      <td>within an hour</td>\n",
       "      <td>...</td>\n",
       "      <td>4.95</td>\n",
       "      <td>4.94</td>\n",
       "      <td>4.92</td>\n",
       "      <td>0.0</td>\n",
       "      <td>1.0</td>\n",
       "      <td>1.0</td>\n",
       "      <td>0.0</td>\n",
       "      <td>0.73</td>\n",
       "      <td>1.0</td>\n",
       "      <td>17994.0</td>\n",
       "    </tr>\n",
       "    <tr>\n",
       "      <th>1</th>\n",
       "      <td>5136.0</td>\n",
       "      <td>city scrape</td>\n",
       "      <td>Spacious Brooklyn Duplex, Patio + Garden</td>\n",
       "      <td>We welcome you to stay in our lovely 2 br dupl...</td>\n",
       "      <td>The neighborhood is nice and central with good...</td>\n",
       "      <td>7378</td>\n",
       "      <td>Rebecca</td>\n",
       "      <td>2009-02-03</td>\n",
       "      <td>New York, NY</td>\n",
       "      <td>within a few hours</td>\n",
       "      <td>...</td>\n",
       "      <td>5.00</td>\n",
       "      <td>4.67</td>\n",
       "      <td>5.00</td>\n",
       "      <td>0.0</td>\n",
       "      <td>1.0</td>\n",
       "      <td>0.0</td>\n",
       "      <td>0.0</td>\n",
       "      <td>0.03</td>\n",
       "      <td>2.0</td>\n",
       "      <td>17994.0</td>\n",
       "    </tr>\n",
       "    <tr>\n",
       "      <th>2</th>\n",
       "      <td>5121.0</td>\n",
       "      <td>city scrape</td>\n",
       "      <td>BlissArtsSpace!</td>\n",
       "      <td>One room available for rent in a 2 bedroom apt...</td>\n",
       "      <td>It is a very central location it is in the hea...</td>\n",
       "      <td>7356</td>\n",
       "      <td>Garon</td>\n",
       "      <td>2009-02-03</td>\n",
       "      <td>New York, NY</td>\n",
       "      <td>within a day</td>\n",
       "      <td>...</td>\n",
       "      <td>4.91</td>\n",
       "      <td>4.47</td>\n",
       "      <td>4.52</td>\n",
       "      <td>0.0</td>\n",
       "      <td>2.0</td>\n",
       "      <td>2.0</td>\n",
       "      <td>0.0</td>\n",
       "      <td>0.30</td>\n",
       "      <td>1.0</td>\n",
       "      <td>17994.0</td>\n",
       "    </tr>\n",
       "    <tr>\n",
       "      <th>3</th>\n",
       "      <td>6848.0</td>\n",
       "      <td>city scrape</td>\n",
       "      <td>Only 2 stops to Manhattan studio</td>\n",
       "      <td>Comfortable studio apartment with super comfor...</td>\n",
       "      <td>Rockaway Beach is a unique town as it is a com...</td>\n",
       "      <td>15991</td>\n",
       "      <td>Allen &amp; Irina</td>\n",
       "      <td>2009-05-06</td>\n",
       "      <td>New York, NY</td>\n",
       "      <td>within an hour</td>\n",
       "      <td>...</td>\n",
       "      <td>4.80</td>\n",
       "      <td>4.67</td>\n",
       "      <td>4.56</td>\n",
       "      <td>0.0</td>\n",
       "      <td>1.0</td>\n",
       "      <td>0.0</td>\n",
       "      <td>0.0</td>\n",
       "      <td>1.13</td>\n",
       "      <td>1.0</td>\n",
       "      <td>17994.0</td>\n",
       "    </tr>\n",
       "    <tr>\n",
       "      <th>4</th>\n",
       "      <td>5178.0</td>\n",
       "      <td>city scrape</td>\n",
       "      <td>Large Furnished Room Near B'way</td>\n",
       "      <td>Please don’t expect the luxury here just a bas...</td>\n",
       "      <td>Theater district, many restaurants around here.</td>\n",
       "      <td>8967</td>\n",
       "      <td>Shunichi</td>\n",
       "      <td>2009-03-03</td>\n",
       "      <td>New York, NY</td>\n",
       "      <td>within a few hours</td>\n",
       "      <td>...</td>\n",
       "      <td>4.45</td>\n",
       "      <td>4.88</td>\n",
       "      <td>4.39</td>\n",
       "      <td>0.0</td>\n",
       "      <td>1.0</td>\n",
       "      <td>1.0</td>\n",
       "      <td>0.0</td>\n",
       "      <td>3.38</td>\n",
       "      <td>1.0</td>\n",
       "      <td>17994.0</td>\n",
       "    </tr>\n",
       "  </tbody>\n",
       "</table>\n",
       "<p>5 rows × 51 columns</p>\n",
       "</div>"
      ],
      "text/plain": [
       "       id           source                                      name  \\\n",
       "0  5203.0  previous scrape        Cozy Clean Guest Room - Family Apt   \n",
       "1  5136.0      city scrape  Spacious Brooklyn Duplex, Patio + Garden   \n",
       "2  5121.0      city scrape                           BlissArtsSpace!   \n",
       "3  6848.0      city scrape          Only 2 stops to Manhattan studio   \n",
       "4  5178.0      city scrape          Large Furnished Room Near B'way　   \n",
       "\n",
       "                                         description  \\\n",
       "0  Our best guests are seeking a safe, clean, spa...   \n",
       "1  We welcome you to stay in our lovely 2 br dupl...   \n",
       "2  One room available for rent in a 2 bedroom apt...   \n",
       "3  Comfortable studio apartment with super comfor...   \n",
       "4  Please don’t expect the luxury here just a bas...   \n",
       "\n",
       "                               neighborhood_overview host_id      host_name  \\\n",
       "0  Our neighborhood is full of restaurants and ca...    7490      MaryEllen   \n",
       "1  The neighborhood is nice and central with good...    7378        Rebecca   \n",
       "2  It is a very central location it is in the hea...    7356          Garon   \n",
       "3  Rockaway Beach is a unique town as it is a com...   15991  Allen & Irina   \n",
       "4    Theater district, many restaurants around here.    8967       Shunichi   \n",
       "\n",
       "   host_since host_location  host_response_time  ...  \\\n",
       "0  2009-02-05  New York, NY      within an hour  ...   \n",
       "1  2009-02-03  New York, NY  within a few hours  ...   \n",
       "2  2009-02-03  New York, NY        within a day  ...   \n",
       "3  2009-05-06  New York, NY      within an hour  ...   \n",
       "4  2009-03-03  New York, NY  within a few hours  ...   \n",
       "\n",
       "   review_scores_communication review_scores_location  review_scores_value  \\\n",
       "0                         4.95                   4.94                 4.92   \n",
       "1                         5.00                   4.67                 5.00   \n",
       "2                         4.91                   4.47                 4.52   \n",
       "3                         4.80                   4.67                 4.56   \n",
       "4                         4.45                   4.88                 4.39   \n",
       "\n",
       "   instant_bookable calculated_host_listings_count  \\\n",
       "0               0.0                            1.0   \n",
       "1               0.0                            1.0   \n",
       "2               0.0                            2.0   \n",
       "3               0.0                            1.0   \n",
       "4               0.0                            1.0   \n",
       "\n",
       "  calculated_host_listings_count_private_rooms  \\\n",
       "0                                          1.0   \n",
       "1                                          0.0   \n",
       "2                                          2.0   \n",
       "3                                          0.0   \n",
       "4                                          1.0   \n",
       "\n",
       "  calculated_host_listings_count_shared_rooms  reviews_per_month  bedroom  \\\n",
       "0                                         0.0               0.73      1.0   \n",
       "1                                         0.0               0.03      2.0   \n",
       "2                                         0.0               0.30      1.0   \n",
       "3                                         0.0               1.13      1.0   \n",
       "4                                         0.0               3.38      1.0   \n",
       "\n",
       "  time_since_first_review  \n",
       "0                 17994.0  \n",
       "1                 17994.0  \n",
       "2                 17994.0  \n",
       "3                 17994.0  \n",
       "4                 17994.0  \n",
       "\n",
       "[5 rows x 51 columns]"
      ]
     },
     "execution_count": 29,
     "metadata": {},
     "output_type": "execute_result"
    }
   ],
   "source": [
    "df_new.head()"
   ]
  },
  {
   "cell_type": "code",
   "execution_count": 30,
   "metadata": {
    "id": "BrwWKSLNBLHu"
   },
   "outputs": [],
   "source": [
    "# we could further delete the columns with high cardinality or high percentage of NaNs\n",
    "\n",
    "drop_cols3 = ['host_id', 'host_name', 'calendar_last_scraped',  \n",
    "                 'calculated_host_listings_count_private_rooms', 'neighborhood_overview']\n",
    "airbnb = df_new.drop(drop_cols3, axis=1)"
   ]
  },
  {
   "cell_type": "code",
   "execution_count": 31,
   "metadata": {
    "id": "GGWMJWRYJEmz"
   },
   "outputs": [],
   "source": [
    "airbnb.drop(['name','source'], axis=1, inplace=True)"
   ]
  },
  {
   "cell_type": "code",
   "execution_count": 32,
   "metadata": {
    "colab": {
     "base_uri": "https://localhost:8080/"
    },
    "id": "QVoSCheY8VSS",
    "outputId": "10314c5d-7942-4b47-d09a-41bdcfb242aa"
   },
   "outputs": [
    {
     "data": {
      "text/plain": [
       "['description',\n",
       " 'host_since',\n",
       " 'host_location',\n",
       " 'host_response_time',\n",
       " 'host_acceptance_rate',\n",
       " 'neighbourhood',\n",
       " 'neighbourhood_cleansed',\n",
       " 'neighbourhood_group_cleansed',\n",
       " 'property_type',\n",
       " 'room_type',\n",
       " 'accommodates',\n",
       " 'bathrooms_text',\n",
       " 'beds',\n",
       " 'amenities']"
      ]
     },
     "execution_count": 32,
     "metadata": {},
     "output_type": "execute_result"
    }
   ],
   "source": [
    "categorical = airbnb.select_dtypes('object').columns.to_list()\n",
    "categorical"
   ]
  },
  {
   "cell_type": "code",
   "execution_count": 33,
   "metadata": {
    "colab": {
     "base_uri": "https://localhost:8080/"
    },
    "id": "KXVh5MQf9TXS",
    "outputId": "c6cd4cb4-a07c-4a56-bd55-349eaca34401"
   },
   "outputs": [
    {
     "name": "stdout",
     "output_type": "stream",
     "text": [
      "description\n",
      "Keep it simple at this peaceful and centrally-located place.                                                                                                                                                                                                                                                                                                                                                                                                                                                                                                                                                                                                                                                                                                                                                                                                                                                                                                                                                                                76\n",
      "Relax with the whole family at this peaceful place to stay.                                                                                                                                                                                                                                                                                                                                                                                                                                                                                                                                                                                                                                                                                                                                                                                                                                                                                                                                                                                 66\n",
      "Forget your worries in this spacious and serene space.                                                                                                                                                                                                                                                                                                                                                                                                                                                                                                                                                                                                                                                                                                                                                                                                                                                                                                                                                                                      65\n",
      "Kick back and relax in this calm, stylish space.                                                                                                                                                                                                                                                                                                                                                                                                                                                                                                                                                                                                                                                                                                                                                                                                                                                                                                                                                                                            63\n",
      "Welcome to UNTITLED (Adj.) at 3 Freeman Alley!<br /><br />Charming Studio's located in the heart of Lower East Side of Manhattan.<br /><br />Building entrance located off a historic alley way that has many street art from street artists all around the world.<br /><br />This location is the best place to relax and unwind after exploring and venturing out in the city.<br /><br />@freemanalley3untitled<br /><br /><b>The space</b><br />Cozy studio that has been newly renovated and smartly furnished including a queen size bed.<br /><br />Studio is equipped with all necessary amenities needed, shampoo/soap, conditioner, towels, linens, basic tableware, coffee, AC, heat, Bluetooth speaker, Smart TV for Android devices.<br /><br />* Additional housekeeping service and for replenishing is available for scheduling and for a fee.<br /><br />* We are doing light renovations throughout the building (Expect minor to no noise resulting from these renovations), please excuse our appearance.<br /><br /    59\n",
      "                                                                                                                                                                                                                                                                                                                                                                                                                                                                                                                                                                                                                                                                                                                                                                                                                                                                                                                                                                                                                                            ..\n",
      "This is a spacious room in Williamsburg prime,  nestled against our iconic neighborhood bridge. You will be walking distance to all the shops / bars / cafes at Bedford & N7th, as well as a stone's throw to places like The Lower East Side, Midtown Manhattan and Greenwich Village.<br /><br /><b>The space</b><br />This apartment is in a pre-war building and has all the charms of such. High ceilings, thick walls and a classic, generous vibe. Inside your room is a Queen sized bed and a lot of natural lighting. You will have access to our closet if you have any small items to store during your stay. There is also a small fire-escape out your window which can be carefully used as an unofficial balcony during the summer months.<br /><br /><b>Guest access</b><br />There is a shared living room fitted with a nice sofa, a collapsible vintage table and a kitchen fully readied for cooking. We offer one of our refrigerator shelves for guests if there are any perishable food items that you would like     1\n",
      "Stay-cation is Very intimate atmosphere great spot for couples.<br /> If you like the Poconos you will love this home. Plus you don't  have to take the long drive. Four blocks from train station.   15 minute drive to LaGuardia Airport. 15 minute drive to JFK Airport.<br /><br /><b>The space</b><br />This place is unique because on the same level you have a private pool area and pool table two separate TVs fireplace. Bluetooth speakers. It's like a little getaway.<br /><br /><b>Guest access</b><br />Outdoor pergola and BBQ grill by permission only if not being used by owner.<br /><br /><b>Other things to note</b><br />Absolutely no parties no get-togethers.                                                                                                                                                                                                                                                                                                                                                     1\n",
      "Live the real Brooklyn experience! Private room with a queen bed in East Williamsburg on a quiet street, two blocks from the Jefferson St. Station on the L line. <br /><br />The apartment is just next to all services in a very lively neighborhood. Most importantly, the place is just next to amazing venues (House of Yes, Bossa Nova, Bizzare Bar, etc.) and night life streets.<br /><br />Place is shared with three very friendly roomates and has all accomodation (fridge, oven, wifi, shower, laundry, etc.).                                                                                                                                                                                                                                                                                                                                                                                                                                                                                                                  1\n",
      "Bright airy one bedroom with a perfect combo of modern and rustic design. Super comfy memory foam queen mattress and pull out queen sofa bed for your snoozing needs. Spacious bathroom with soak in tub and a double sink. Hardwood floors throughout with a decorative fireplace and a concrete countertop. Range stove and dishwasher for the inner cook in you :)<br /><br /><b>Guest access</b><br />Anything within the apartment.                                                                                                                                                                                                                                                                                                                                                                                                                                                                                                                                                                                                     1\n",
      "Keep it simple at this peaceful and centrally-located place. <br />Amazing 2 bedrooms apt in a private home in the Bronx. It has large bedroom with closet and a Queen side bed. Bedroom with Twin bed and working space with a desk and comfy chair. Separate living room with 1 futon (sofa bed). Bathroom and kitchen. The apartment is located 30 min (15 mil) from JFK airport, and 25 min from LGA airport. Express bus to midtown Manhattan (BXM8) 2 minutes walk. 12+ mins walking distance to the train station.                                                                                                                                                                                                                                                                                                                                                                                                                                                                                                                    1\n",
      "Name: description, Length: 36505, dtype: int64\n",
      "\n",
      "host_since\n",
      "2016-12-16    486\n",
      "2012-08-11    336\n",
      "2017-11-16    210\n",
      "2014-08-01    205\n",
      "2015-12-16    195\n",
      "             ... \n",
      "2010-09-12      1\n",
      "2011-03-15      1\n",
      "2010-02-06      1\n",
      "2010-07-09      1\n",
      "2022-11-20      1\n",
      "Name: host_since, Length: 4635, dtype: int64\n",
      "\n",
      "host_location\n",
      "New York, NY               30422\n",
      "New York, United States     5087\n",
      "United States                399\n",
      "Los Angeles, CA              307\n",
      "San Francisco, CA            168\n",
      "                           ...  \n",
      "Doylestown, PA                 1\n",
      "Chiang Mai, Thailand           1\n",
      "Littleton, CO                  1\n",
      "Lenox, MA                      1\n",
      "Ramallah                       1\n",
      "Name: host_location, Length: 1094, dtype: int64\n",
      "\n",
      "host_response_time\n",
      "within an hour        26286\n",
      "within a few hours     8774\n",
      "within a day           4615\n",
      "a few days or more      901\n",
      "Private room              1\n",
      "Entire home/apt           1\n",
      "Name: host_response_time, dtype: int64\n",
      "\n",
      "host_acceptance_rate\n"
     ]
    },
    {
     "name": "stdout",
     "output_type": "stream",
     "text": [
      "100      7264\n",
      "100.0    5722\n",
      "99.0     1388\n",
      "97.0     1157\n",
      "97       1001\n",
      "         ... \n",
      "10.0        3\n",
      "5.0         2\n",
      "16.0        2\n",
      "4.0         1\n",
      "4           1\n",
      "Name: host_acceptance_rate, Length: 195, dtype: int64\n",
      "\n",
      "neighbourhood\n",
      "New York, United States                   15816\n",
      "Brooklyn, New York, United States         15477\n",
      "Queens, New York, United States            5948\n",
      "Bronx, New York, United States              825\n",
      "The Bronx, New York, United States          663\n",
      "                                          ...  \n",
      "Forest hills, New York, United States         1\n",
      "Bushwick , New York, United States            1\n",
      "Jamaica , ny, United States                   1\n",
      "New York, New York , United States            1\n",
      "Valley Stream, New York, United States        1\n",
      "Name: neighbourhood, Length: 194, dtype: int64\n",
      "\n",
      "neighbourhood_cleansed\n",
      "Bedford-Stuyvesant    2912\n",
      "Williamsburg          2535\n",
      "Harlem                1932\n",
      "Bushwick              1739\n",
      "Midtown               1717\n",
      "                      ... \n",
      "Westerleigh              1\n",
      "Fort Wadsworth           1\n",
      "New Dorp                 1\n",
      "60.0                     1\n",
      "350.0                    1\n",
      "Name: neighbourhood_cleansed, Length: 225, dtype: int64\n",
      "\n",
      "neighbourhood_group_cleansed\n",
      "Manhattan        16599\n",
      "Brooklyn         15519\n",
      "Queens            6481\n",
      "Bronx             1577\n",
      "Staten Island      400\n",
      "7                    1\n",
      "14                   1\n",
      "Name: neighbourhood_group_cleansed, dtype: int64\n",
      "\n",
      "property_type\n",
      "Entire rental unit                    17417\n",
      "Private room in rental unit           10923\n",
      "Private room in home                   2180\n",
      "Entire condo                           1621\n",
      "Entire home                            1520\n",
      "Other                                  1347\n",
      "Private room in townhouse              1089\n",
      "Entire loft                             693\n",
      "Room in hotel                           635\n",
      "Entire townhouse                        624\n",
      "Private room in condo                   609\n",
      "Entire serviced apartment               447\n",
      "Entire guest suite                      382\n",
      "Room in boutique hotel                  378\n",
      "Shared room in rental unit              367\n",
      "Private room in serviced apartment      344\n",
      "0                                         1\n",
      "17                                        1\n",
      "Name: property_type, dtype: int64\n",
      "\n",
      "room_type\n",
      "Entire home/apt    23073\n",
      "Private room       16855\n",
      "Shared room          510\n",
      "Hotel room           138\n",
      "0                      1\n",
      "351                    1\n",
      "Name: room_type, dtype: int64\n",
      "\n",
      "accommodates\n",
      "2             11223\n",
      "2              7186\n",
      "4              3798\n",
      "1              3707\n",
      "4              2668\n",
      "1              2644\n",
      "3              2454\n",
      "3              1537\n",
      "6              1180\n",
      "5               943\n",
      "6               906\n",
      "5               737\n",
      "8               323\n",
      "8               291\n",
      "7               249\n",
      "7               174\n",
      "10              116\n",
      "10               87\n",
      "9                51\n",
      "16               47\n",
      "12               44\n",
      "16               43\n",
      "12               40\n",
      "9                33\n",
      "11               20\n",
      "15               20\n",
      "14               16\n",
      "13               11\n",
      "15               11\n",
      "11                8\n",
      "13                5\n",
      "14                4\n",
      "2022-12-05        2\n",
      "Name: accommodates, dtype: int64\n",
      "\n",
      "bathrooms_text\n",
      "1 bath               21589\n",
      "1 shared bath         9528\n",
      "1 private bath        2839\n",
      "2 baths               2523\n",
      "1.5 baths             1143\n",
      "2 shared baths        1098\n",
      "1.5 shared baths       711\n",
      "2.5 baths              361\n",
      "3 baths                172\n",
      "0 shared baths         157\n",
      "3 shared baths          95\n",
      "2.5 shared baths        82\n",
      "3.5 baths               68\n",
      "0 baths                 56\n",
      "4 baths                 40\n",
      "Half-bath               37\n",
      "Shared half-bath        17\n",
      "4.5 baths               16\n",
      "4 shared baths          13\n",
      "Private half-bath       12\n",
      "5 baths                  6\n",
      "6 baths                  4\n",
      "5.5 baths                4\n",
      "6 shared baths           2\n",
      "0                        1\n",
      "3.5 shared baths         1\n",
      "4.5 shared baths         1\n",
      "6.5 baths                1\n",
      "3                        1\n",
      "Name: bathrooms_text, dtype: int64\n",
      "\n",
      "beds\n",
      "1.0           15970\n",
      "1.0            9897\n",
      "2.0            5244\n",
      "2.0            3682\n",
      "3.0            1974\n",
      "3.0            1480\n",
      "4.0             784\n",
      "4.0             623\n",
      "5.0             287\n",
      "5.0             212\n",
      "6.0             124\n",
      "6.0              97\n",
      "7.0              50\n",
      "7.0              40\n",
      "8.0              26\n",
      "8.0              20\n",
      "9.0              16\n",
      "9.0              12\n",
      "10.0             10\n",
      "11.0              5\n",
      "12.0              5\n",
      "10.0              5\n",
      "12.0              5\n",
      "11.0              4\n",
      "2016-05-31        1\n",
      "21.0              1\n",
      "13.0              1\n",
      "14.0              1\n",
      "2022-07-03        1\n",
      "14.0              1\n",
      "Name: beds, dtype: int64\n",
      "\n",
      "amenities\n",
      "[\"Long term stays allowed\"]                                                                                                                                                                                                                                                                                                                                                                                                                                                                                                                                                                                                                                                                                                                                                                                                                                                                                         127\n",
      "[\"Smoke alarm\", \"Carbon monoxide alarm\", \"Washer\", \"Wifi\", \"TV\", \"Kitchen\", \"Long term stays allowed\", \"Air conditioning\"]                                                                                                                                                                                                                                                                                                                                                                                                                                                                                                                                                                                                                                                                                                                                                                                           76\n",
      "[\"Smoke alarm\", \"Carbon monoxide alarm\", \"First aid kit\", \"Shampoo\", \"Heating\", \"Wifi\", \"Air conditioning\", \"Fire extinguisher\", \"Elevator\", \"TV\", \"Long term stays allowed\", \"Iron\", \"Essentials\", \"Hangers\", \"Hair dryer\"]                                                                                                                                                                                                                                                                                                                                                                                                                                                                                                                                                                                                                                                                                         69\n",
      "[\"Smoke alarm\", \"Carbon monoxide alarm\", \"Heating\", \"Wifi\", \"Long term stays allowed\", \"Kitchen\", \"Dedicated workspace\", \"Hangers\"]                                                                                                                                                                                                                                                                                                                                                                                                                                                                                                                                                                                                                                                                                                                                                                                  66\n",
      "[\"Carbon monoxide alarm\", \"Pets allowed\", \"Shampoo\", \"Private entrance\", \"Bathtub\", \"TV\", \"Kitchen\", \"Iron\", \"Dishwasher\", \"Long term stays allowed\", \"Essentials\", \"Bed linens\", \"Self check-in\", \"Elevator\", \"Refrigerator\", \"Air conditioning\", \"Coffee maker\", \"Smoke alarm\", \"Heating\", \"Hot water\", \"Wifi\", \"Oven\", \"Gym\", \"Dryer \\u2013 In building\", \"Hangers\", \"Microwave\", \"Washer \\u2013\\u00a0In building\", \"Lockbox\", \"Hair dryer\"]                                                                                                                                                                                                                                                                                                                                                                                                                                                                      59\n",
      "                                                                                                                                                                                                                                                                                                                                                                                                                                                                                                                                                                                                                                                                                                                                                                                                                                                                                                                   ... \n",
      "[\"Carbon monoxide alarm\", \"Portable fans\", \"Hot water kettle\", \"Shampoo\", \"Conditioner\", \"Stove\", \"Private entrance\", \"Bathtub\", \"Long term stays allowed\", \"Kitchen\", \"Iron\", \"Toaster\", \"Essentials\", \"Bed linens\", \"Self check-in\", \"Laundromat nearby\", \"Free street parking\", \"Keypad\", \"Freezer\", \"Refrigerator\", \"Extra pillows and blankets\", \"Cleaning available during stay\", \"Dedicated workspace\", \"Smoke alarm\", \"Heating\", \"Hot water\", \"Wifi\", \"Oven\", \"Luggage dropoff allowed\", \"Room-darkening shades\", \"Cooking basics\", \"BBQ grill\", \"Single level home\", \"Pack \\u2019n play/Travel crib\", \"Children\\u2019s dinnerware\", \"Hangers\", \"50\\\" HDTV with Netflix, standard cable\", \"First aid kit\", \"Dishes and silverware\", \"Clothing storage: dresser and closet\", \"Fire extinguisher\", \"Wine glasses\", \"Microwave\", \"Security cameras on property\", \"Portable air conditioning\", \"Hair dryer\"]      1\n",
      "[\"Carbon monoxide alarm\", \"Portable fans\", \"Private entrance\", \"Bathtub\", \"Long term stays allowed\", \"Kitchen\", \"Iron\", \"Essentials\", \"Bed linens\", \"Self check-in\", \"Laundromat nearby\", \"Free street parking\", \"Freezer\", \"Refrigerator\", \"Paid parking lot off premises\", \"Air conditioning\", \"Smoke alarm\", \"Heating\", \"Hot water\", \"Wifi\", \"Host greets you\", \"Room-darkening shades\", \"Cooking basics\", \"Hangers\", \"Dishes and silverware\", \"Clothing storage: dresser and closet\", \"Fire extinguisher\", \"Ceiling fan\", \"Microwave\", \"General Electric  gas stove\", \"Lockbox\", \"Hair dryer\", \"50\\\" HDTV with Netflix\"]                                                                                                                                                                                                                                                                                          1\n",
      "[\"Smoke alarm\", \"Carbon monoxide alarm\", \"First aid kit\", \"Shampoo\", \"Heating\", \"Wifi\", \"Stove\", \"Fire extinguisher\", \"Oven\", \"Free street parking\", \"Smoking allowed\", \"TV\", \"Kitchen\", \"Iron\", \"Lock on bedroom door\", \"Refrigerator\", \"Microwave\", \"Long term stays allowed\", \"Essentials\", \"Hangers\"]                                                                                                                                                                                                                                                                                                                                                                                                                                                                                                                                                                                                             1\n",
      "[\"Carbon monoxide alarm\", \"Stove\", \"Bathtub\", \"TV\", \"Kitchen\", \"Iron\", \"Patio or balcony\", \"Dryer\", \"Long term stays allowed\", \"Essentials\", \"Bed linens\", \"Self check-in\", \"Free street parking\", \"Backyard\", \"Refrigerator\", \"Extra pillows and blankets\", \"Cleaning available during stay\", \"Air conditioning\", \"Coffee maker\", \"Smoke alarm\", \"Heating\", \"Hot water\", \"Wifi\", \"Oven\", \"Luggage dropoff allowed\", \"Cooking basics\", \"Hangers\", \"Smart lock\", \"Dishes and silverware\", \"Washer\", \"First aid kit\", \"Fire extinguisher\", \"Microwave\", \"Security cameras on property\", \"Hair dryer\"]                                                                                                                                                                                                                                                                                                                   1\n",
      "[\"Hair dryer\", \"Smoke alarm\", \"Carbon monoxide alarm\", \"Dishes and silverware\", \"Heating\", \"Wifi\", \"Fire extinguisher\", \"Microwave\", \"Kitchen\", \"Lock on bedroom door\", \"Security cameras on property\", \"Refrigerator\", \"Long term stays allowed\", \"Essentials\", \"Air conditioning\"]                                                                                                                                                                                                                                                                                                                                                                                                                                                                                                                                                                                                                                  1\n",
      "Name: amenities, Length: 34913, dtype: int64\n",
      "\n"
     ]
    }
   ],
   "source": [
    "for col in categorical:\n",
    "    print(col)\n",
    "    print(airbnb[col].value_counts())\n",
    "    print()"
   ]
  },
  {
   "cell_type": "code",
   "execution_count": 34,
   "metadata": {
    "colab": {
     "base_uri": "https://localhost:8080/"
    },
    "id": "7uREOh1_Dy95",
    "outputId": "3bec7e79-c45c-44df-affb-facdcdbc77eb"
   },
   "outputs": [
    {
     "name": "stdout",
     "output_type": "stream",
     "text": [
      "Requirement already satisfied: category-encoders in /Users/niral/opt/anaconda3/lib/python3.9/site-packages (2.6.0)\n",
      "Requirement already satisfied: statsmodels>=0.9.0 in /Users/niral/opt/anaconda3/lib/python3.9/site-packages (from category-encoders) (0.13.2)\n",
      "Requirement already satisfied: scipy>=1.0.0 in /Users/niral/opt/anaconda3/lib/python3.9/site-packages (from category-encoders) (1.9.1)\n",
      "Requirement already satisfied: numpy>=1.14.0 in /Users/niral/opt/anaconda3/lib/python3.9/site-packages (from category-encoders) (1.21.5)\n",
      "Requirement already satisfied: pandas>=1.0.5 in /Users/niral/opt/anaconda3/lib/python3.9/site-packages (from category-encoders) (1.4.4)\n",
      "Requirement already satisfied: patsy>=0.5.1 in /Users/niral/opt/anaconda3/lib/python3.9/site-packages (from category-encoders) (0.5.2)\n",
      "Requirement already satisfied: scikit-learn>=0.20.0 in /Users/niral/opt/anaconda3/lib/python3.9/site-packages (from category-encoders) (1.0.2)\n",
      "Requirement already satisfied: python-dateutil>=2.8.1 in /Users/niral/opt/anaconda3/lib/python3.9/site-packages (from pandas>=1.0.5->category-encoders) (2.8.2)\n",
      "Requirement already satisfied: pytz>=2020.1 in /Users/niral/opt/anaconda3/lib/python3.9/site-packages (from pandas>=1.0.5->category-encoders) (2022.1)\n",
      "Requirement already satisfied: six in /Users/niral/opt/anaconda3/lib/python3.9/site-packages (from patsy>=0.5.1->category-encoders) (1.16.0)\n",
      "Requirement already satisfied: joblib>=0.11 in /Users/niral/opt/anaconda3/lib/python3.9/site-packages (from scikit-learn>=0.20.0->category-encoders) (1.1.0)\n",
      "Requirement already satisfied: threadpoolctl>=2.0.0 in /Users/niral/opt/anaconda3/lib/python3.9/site-packages (from scikit-learn>=0.20.0->category-encoders) (2.2.0)\n",
      "Requirement already satisfied: packaging>=21.3 in /Users/niral/opt/anaconda3/lib/python3.9/site-packages (from statsmodels>=0.9.0->category-encoders) (21.3)\n",
      "Requirement already satisfied: pyparsing!=3.0.5,>=2.0.2 in /Users/niral/opt/anaconda3/lib/python3.9/site-packages (from packaging>=21.3->statsmodels>=0.9.0->category-encoders) (3.0.9)\n"
     ]
    }
   ],
   "source": [
    "import random\n",
    "import sklearn\n",
    "\n",
    "# to split the dataset into test and train \n",
    "from sklearn.model_selection import StratifiedShuffleSplit\n",
    "\n",
    "!pip install category-encoders\n",
    "\n",
    "# Transformers for the Pipeline\n",
    "from sklearn.pipeline import Pipeline, make_pipeline\n",
    "from sklearn.preprocessing import StandardScaler\n",
    "import category_encoders as ce\n",
    "from category_encoders import OrdinalEncoder, OneHotEncoder\n",
    "from sklearn.compose import ColumnTransformer\n",
    "from sklearn.impute import SimpleImputer\n",
    "\n",
    "# Evaluation metrics\n",
    "from sklearn.metrics import mean_absolute_error\n",
    "\n",
    "# Cross Validation libraries\n",
    "from sklearn.model_selection import cross_val_score, RandomizedSearchCV\n",
    "\n",
    "# Predictors \n",
    "from sklearn.linear_model import LinearRegression, ElasticNet\n",
    "from sklearn.ensemble import GradientBoostingRegressor, RandomForestRegressor, VotingRegressor\n",
    "from sklearn.svm import LinearSVR\n"
   ]
  },
  {
   "cell_type": "code",
   "execution_count": 35,
   "metadata": {
    "id": "MSr0N7zj9TRn"
   },
   "outputs": [],
   "source": [
    "# using Stratified Sampling from Scikit Learn\n",
    "split = StratifiedShuffleSplit(n_splits=1, test_size=0.2, random_state=42)\n",
    "\n",
    "for train_index, test_index in split.split(airbnb, airbnb[\"bedroom\"]):\n",
    "# our stratified train and test set \n",
    "    strat_train_set = airbnb.loc[train_index]\n",
    "    strat_test_set = airbnb.loc[test_index]"
   ]
  },
  {
   "cell_type": "code",
   "execution_count": 36,
   "metadata": {
    "colab": {
     "base_uri": "https://localhost:8080/"
    },
    "id": "bdfiPuWmDzku",
    "outputId": "d4da2c72-9f1d-45c2-a7eb-b1014530b89b"
   },
   "outputs": [
    {
     "data": {
      "text/plain": [
       "(40578, 44)"
      ]
     },
     "execution_count": 36,
     "metadata": {},
     "output_type": "execute_result"
    }
   ],
   "source": [
    "airbnb.shape"
   ]
  },
  {
   "cell_type": "code",
   "execution_count": 37,
   "metadata": {
    "colab": {
     "base_uri": "https://localhost:8080/"
    },
    "id": "csHo4XJqD33M",
    "outputId": "1b97792a-7590-4035-e0c4-069541e1d7aa"
   },
   "outputs": [
    {
     "data": {
      "text/plain": [
       "(32462, 44)"
      ]
     },
     "execution_count": 37,
     "metadata": {},
     "output_type": "execute_result"
    }
   ],
   "source": [
    "strat_train_set.shape"
   ]
  },
  {
   "cell_type": "code",
   "execution_count": 38,
   "metadata": {
    "colab": {
     "base_uri": "https://localhost:8080/"
    },
    "id": "5MlAl6itD8EV",
    "outputId": "ad26f610-7c29-463d-fe69-ae0270c31763"
   },
   "outputs": [
    {
     "data": {
      "text/plain": [
       "(8116, 44)"
      ]
     },
     "execution_count": 38,
     "metadata": {},
     "output_type": "execute_result"
    }
   ],
   "source": [
    "strat_test_set.shape"
   ]
  },
  {
   "cell_type": "code",
   "execution_count": 39,
   "metadata": {
    "id": "er472OmLFwbW"
   },
   "outputs": [],
   "source": [
    "# dropping our new column that we just made for the purpose of stratified splitting\n",
    "for set in (strat_train_set, strat_test_set):\n",
    "    set.drop(['bedroom'], axis=1, inplace=True)"
   ]
  },
  {
   "cell_type": "markdown",
   "metadata": {
    "id": "tUKpmEVQLdTc"
   },
   "source": [
    "## Splitting data into Train and Test"
   ]
  },
  {
   "cell_type": "code",
   "execution_count": 40,
   "metadata": {
    "id": "VX4mBXSW9TOw"
   },
   "outputs": [],
   "source": [
    "# Feature matrix\n",
    "X_train = strat_train_set.drop('price', axis=1)\n",
    "# Target Variable\n",
    "y_train = strat_train_set['price']"
   ]
  },
  {
   "cell_type": "markdown",
   "metadata": {
    "id": "4UHV4bZVF-af"
   },
   "source": [
    "# Baseline Model"
   ]
  },
  {
   "cell_type": "code",
   "execution_count": 41,
   "metadata": {
    "colab": {
     "base_uri": "https://localhost:8080/"
    },
    "id": "3mXrZXMP9TLz",
    "outputId": "f43a1e99-12b1-47aa-da37-88d8042ca7bc"
   },
   "outputs": [
    {
     "name": "stdout",
     "output_type": "stream",
     "text": [
      "Baseline MAE: 101.35759133801942\n"
     ]
    }
   ],
   "source": [
    "from sklearn.metrics import mean_absolute_error, mean_squared_error, r2_score\n",
    "\n",
    "print('Baseline MAE:', mean_absolute_error(y_train, [y_train.mean()]*len(y_train)))"
   ]
  },
  {
   "cell_type": "code",
   "execution_count": 42,
   "metadata": {
    "colab": {
     "base_uri": "https://localhost:8080/"
    },
    "id": "SHxv_f909TIt",
    "outputId": "32359fe3-f046-4332-8a86-12092fd1c787"
   },
   "outputs": [
    {
     "data": {
      "text/plain": [
       "Index(['id', 'host_response_rate', 'host_is_superhost', 'host_listings_count',\n",
       "       'latitude', 'longitude', 'bedrooms', 'minimum_nights', 'maximum_nights',\n",
       "       'has_availability', 'availability_30', 'availability_365',\n",
       "       'number_of_reviews', 'number_of_reviews_l30d', 'first_review',\n",
       "       'last_review', 'review_scores_rating', 'review_scores_accuracy',\n",
       "       'review_scores_cleanliness', 'review_scores_checkin',\n",
       "       'review_scores_communication', 'review_scores_location',\n",
       "       'review_scores_value', 'instant_bookable',\n",
       "       'calculated_host_listings_count',\n",
       "       'calculated_host_listings_count_shared_rooms', 'reviews_per_month',\n",
       "       'time_since_first_review'],\n",
       "      dtype='object')"
      ]
     },
     "execution_count": 42,
     "metadata": {},
     "output_type": "execute_result"
    }
   ],
   "source": [
    "# lets look at numerical attributes for simple imputer with median \n",
    "num_attribs = X_train.select_dtypes(exclude='object')\n",
    "num_attribs.columns"
   ]
  },
  {
   "cell_type": "code",
   "execution_count": 43,
   "metadata": {
    "colab": {
     "base_uri": "https://localhost:8080/"
    },
    "id": "hVaVd7oG9TFq",
    "outputId": "5e026c02-7a12-49f4-cc16-37a49b4b5c5c"
   },
   "outputs": [
    {
     "data": {
      "text/plain": [
       "Index(['description', 'host_since', 'host_location', 'host_response_time',\n",
       "       'host_acceptance_rate', 'neighbourhood', 'neighbourhood_cleansed',\n",
       "       'neighbourhood_group_cleansed', 'property_type', 'room_type',\n",
       "       'accommodates', 'bathrooms_text', 'beds', 'amenities'],\n",
       "      dtype='object')"
      ]
     },
     "execution_count": 43,
     "metadata": {},
     "output_type": "execute_result"
    }
   ],
   "source": [
    "# lets look at categorical attributes for simple imputer with 'most_frequent'\n",
    "cat_attribs = X_train.select_dtypes(include='object')\n",
    "cat_attribs.columns"
   ]
  },
  {
   "cell_type": "code",
   "execution_count": 44,
   "metadata": {
    "colab": {
     "base_uri": "https://localhost:8080/"
    },
    "id": "B39JRfgE9TC-",
    "outputId": "517e98e5-e54a-49ca-ed93-2081b5d6f0de"
   },
   "outputs": [
    {
     "data": {
      "text/plain": [
       "Index(['host_acceptance_rate'], dtype='object')"
      ]
     },
     "execution_count": 44,
     "metadata": {},
     "output_type": "execute_result"
    }
   ],
   "source": [
    "# making a seperate list for cols that we will one hot encode and the other taht we will ordinal encode\n",
    "cat_attribs_ohe = cat_attribs.drop([ 'host_acceptance_rate'], axis=1)\n",
    "\n",
    "cat_attribs_ordinal = cat_attribs[[ 'host_acceptance_rate']]\n",
    "cat_attribs_ordinal.columns"
   ]
  },
  {
   "cell_type": "code",
   "execution_count": 45,
   "metadata": {
    "colab": {
     "base_uri": "https://localhost:8080/"
    },
    "id": "t09YDk2l9S_8",
    "outputId": "65d4241f-fea1-4dc1-b52c-1db517431a38"
   },
   "outputs": [
    {
     "data": {
      "text/plain": [
       "Index(['description', 'host_since', 'host_location', 'host_response_time',\n",
       "       'neighbourhood', 'neighbourhood_cleansed',\n",
       "       'neighbourhood_group_cleansed', 'property_type', 'room_type',\n",
       "       'accommodates', 'bathrooms_text', 'beds', 'amenities'],\n",
       "      dtype='object')"
      ]
     },
     "execution_count": 45,
     "metadata": {},
     "output_type": "execute_result"
    }
   ],
   "source": [
    "cat_attribs_ohe.columns"
   ]
  },
  {
   "cell_type": "code",
   "execution_count": 46,
   "metadata": {
    "id": "nthwntST9S9P"
   },
   "outputs": [],
   "source": [
    "from sklearn.base import BaseEstimator, TransformerMixin\n",
    "\n",
    "class ImputerDF(BaseEstimator, TransformerMixin):\n",
    "    def __init__(self):\n",
    "        self.imputer = SimpleImputer(strategy='most_frequent')\n",
    "        self.cols = []\n",
    "        \n",
    "    def fit(self, X, y=None):\n",
    "        self.imputer.fit(X)\n",
    "        self.cols = list(X.columns)\n",
    "        return self\n",
    "    \n",
    "    def transform(self, X):\n",
    "        X_t = self.imputer.transform(X)\n",
    "        return pd.DataFrame(X_t, columns=self.cols)"
   ]
  },
  {
   "cell_type": "code",
   "execution_count": 47,
   "metadata": {
    "id": "8mD4J4LvuYpE"
   },
   "outputs": [],
   "source": [
    "X_train.first_review = X_train.first_review.apply(lambda x:x.toordinal())\n",
    "X_train.last_review = X_train.last_review.apply(lambda x:x.toordinal())"
   ]
  },
  {
   "cell_type": "code",
   "execution_count": 48,
   "metadata": {
    "id": "fyF7vl2V9S38"
   },
   "outputs": [],
   "source": [
    "# Using median as the strategy for Simple Imputer to predict NaN values considering the ouliers\n",
    "num_pipeline = make_pipeline(\n",
    "                            SimpleImputer(strategy='median'),\n",
    "                            StandardScaler()\n",
    ")\n",
    "# Added the Custom Transformer to pass on a dataframe to Ordinal Encoder \n",
    "# Ordinal Encoder from cetgorical encoders library doesn't work well with np.array\n",
    "cat_pipeline = make_pipeline(\n",
    "                            ImputerDF(),\n",
    "                            OrdinalEncoder(cols = cat_attribs)\n",
    ")\n"
   ]
  },
  {
   "cell_type": "code",
   "execution_count": 49,
   "metadata": {
    "id": "fwdupNB09SxX"
   },
   "outputs": [],
   "source": [
    "# generating a list of categorical and numerical columns to pass it in the column transformer\n",
    "cat_attributes = list(cat_attribs)\n",
    "num_attributes = list(num_attribs)\n",
    "\n",
    "pipeline = ColumnTransformer([\n",
    "                            ('num_pipeline', num_pipeline, num_attributes),\n",
    "                            ('cat_attribs', cat_pipeline, cat_attributes)\n",
    "])\n",
    "\n",
    "# we will fit and transform on X_train\n",
    "X_train_transformed = pipeline.fit_transform(X_train)\n"
   ]
  },
  {
   "cell_type": "markdown",
   "metadata": {
    "id": "YWOrQdBtvsFP"
   },
   "source": [
    "# Model Selection\n",
    "\n",
    "\n"
   ]
  },
  {
   "cell_type": "markdown",
   "metadata": {
    "id": "WEfvtdktwB__"
   },
   "source": [
    "## Linear regression:"
   ]
  },
  {
   "cell_type": "code",
   "execution_count": 50,
   "metadata": {
    "id": "-7WohOEn7fZu"
   },
   "outputs": [],
   "source": [
    "from sklearn.linear_model import LinearRegression\n",
    "\n",
    "# Instantiate\n",
    "lin_reg = LinearRegression()\n",
    "# taking a log of our target variable as it had a positive skew of 4+\n",
    "y_train_log = np.log1p(y_train)\n",
    "# fit\n",
    "lin_reg.fit(X_train_transformed, y_train_log)\n",
    "# predicting the train set\n",
    "y_pred_log_train = lin_reg.predict(X_train_transformed)\n",
    "# we will take explonential to reverse it so we could use it for predictions \n",
    "y_pred_train = np.expm1(y_pred_log_train)\n"
   ]
  },
  {
   "cell_type": "code",
   "execution_count": 51,
   "metadata": {
    "colab": {
     "base_uri": "https://localhost:8080/"
    },
    "id": "OQMiy9k8d1rC",
    "outputId": "661b614a-6fa4-413c-d530-c3623190fffa"
   },
   "outputs": [
    {
     "name": "stdout",
     "output_type": "stream",
     "text": [
      "Mean Absolute Error on Training Set: 67.4960362104608\n"
     ]
    }
   ],
   "source": [
    "print('Mean Absolute Error on Training Set:', mean_absolute_error(y_train, y_pred_train))"
   ]
  },
  {
   "cell_type": "code",
   "execution_count": 52,
   "metadata": {
    "colab": {
     "base_uri": "https://localhost:8080/"
    },
    "id": "E2SteRv-M3UL",
    "outputId": "59f3ef35-1ad0-4623-e4a2-72773b271261"
   },
   "outputs": [
    {
     "name": "stdout",
     "output_type": "stream",
     "text": [
      "R2 score: 0.33199851772141253\n"
     ]
    }
   ],
   "source": [
    "r2 = r2_score(y_train, y_pred_train)\n",
    "\n",
    "print(\"R2 score:\", r2)"
   ]
  },
  {
   "cell_type": "code",
   "execution_count": 53,
   "metadata": {
    "colab": {
     "base_uri": "https://localhost:8080/"
    },
    "id": "gYzLxRnqfbYA",
    "outputId": "3f9ad050-9dcd-4126-f090-8ecba9808380"
   },
   "outputs": [
    {
     "data": {
      "text/plain": [
       "85.61788162274044"
      ]
     },
     "execution_count": 53,
     "metadata": {},
     "output_type": "execute_result"
    }
   ],
   "source": [
    "lin_reg_scores = (-cross_val_score(lin_reg, X_train_transformed, y_train,cv=10, scoring='neg_mean_absolute_error'))\n",
    "lin_reg_scores.mean()"
   ]
  },
  {
   "cell_type": "markdown",
   "metadata": {
    "id": "UJrGgpAyv90B"
   },
   "source": [
    "# Ensemble models"
   ]
  },
  {
   "cell_type": "markdown",
   "metadata": {
    "id": "a4CZFTspwLf-"
   },
   "source": [
    "## Random Forest Regressor:"
   ]
  },
  {
   "cell_type": "markdown",
   "metadata": {
    "id": "puHC_FN4wRZa"
   },
   "source": [
    "Model is overfitting and has high variance.\n",
    "\n",
    "We will perform cross validation looking for the best combination of the values of hyperparameters that will help generalize the model."
   ]
  },
  {
   "cell_type": "code",
   "execution_count": 54,
   "metadata": {
    "id": "_sVBcfL6er_O"
   },
   "outputs": [],
   "source": [
    "from sklearn.ensemble import RandomForestRegressor \n",
    "# Istantiate\n",
    "forest_reg = RandomForestRegressor(n_jobs=-1) \n",
    "# Fit\n",
    "forest_reg.fit(X_train_transformed, y_train)\n",
    "# predict on the train set\n",
    "y_pred_train_Forest = forest_reg.predict(X_train_transformed)"
   ]
  },
  {
   "cell_type": "code",
   "execution_count": 55,
   "metadata": {
    "colab": {
     "base_uri": "https://localhost:8080/"
    },
    "id": "WfSPFT38fR3Q",
    "outputId": "e7ad5f06-7d7c-4872-ef12-c16413d59ac3"
   },
   "outputs": [
    {
     "name": "stdout",
     "output_type": "stream",
     "text": [
      "Mean Absolute Error on Training Set: 18.355075956502986\n"
     ]
    }
   ],
   "source": [
    "print('Mean Absolute Error on Training Set:', mean_absolute_error(y_train, y_pred_train_Forest))"
   ]
  },
  {
   "cell_type": "code",
   "execution_count": 56,
   "metadata": {
    "colab": {
     "base_uri": "https://localhost:8080/"
    },
    "id": "OYsSpKwtwct1",
    "outputId": "bb66e869-9609-4b39-f2bc-a6d222186314"
   },
   "outputs": [
    {
     "data": {
      "text/plain": [
       "50.5241599771418"
      ]
     },
     "execution_count": 56,
     "metadata": {},
     "output_type": "execute_result"
    }
   ],
   "source": [
    "forest_reg_scores = (-cross_val_score(forest_reg, X_train_transformed, y_train,cv=10, scoring='neg_mean_absolute_error'))\n",
    "forest_reg_scores.mean()"
   ]
  },
  {
   "cell_type": "code",
   "execution_count": 57,
   "metadata": {
    "colab": {
     "base_uri": "https://localhost:8080/"
    },
    "id": "0FNw4c45Mpyv",
    "outputId": "d3f19997-b68f-4e4e-cd8d-70f2bc983f16"
   },
   "outputs": [
    {
     "name": "stdout",
     "output_type": "stream",
     "text": [
      "R2 score: 0.9549648093747467\n"
     ]
    }
   ],
   "source": [
    "r2 = r2_score(y_train, y_pred_train_Forest)\n",
    "\n",
    "print(\"R2 score:\", r2)"
   ]
  },
  {
   "cell_type": "markdown",
   "metadata": {
    "id": "Hd3JVElhxlPs"
   },
   "source": [
    "## Gradiant Boosting Regressor:"
   ]
  },
  {
   "cell_type": "markdown",
   "metadata": {
    "id": "TnufstEJxdXg"
   },
   "source": [
    "\n",
    "* Subsample might help us with overfitting. It is the fraction of samples to be used for fitting the individual base learners. If smaller than 1.0 this results in Stochastic Gradient Boosting. subsample interacts with the parameter n_estimators. Choosing subsample < 1.0 leads to a reduction of variance and an increase in bias.\n",
    "\n",
    "* It does not have n_jobs as the predictors run in sequence, and not in parallel like bagging.\n",
    "\n",
    "Gradiant Boosting is the most promising generalized model so far, and we don't see any need of hypertuning using cross validation."
   ]
  },
  {
   "cell_type": "code",
   "execution_count": 58,
   "metadata": {
    "id": "JRWjoW_9xpie"
   },
   "outputs": [],
   "source": [
    "from sklearn.ensemble import GradientBoostingRegressor\n",
    "\n",
    "#instantiate\n",
    "gbrt = GradientBoostingRegressor(max_depth=8, max_features=0.9699098521619943, n_estimators=103)\n",
    "\n",
    "gbrt.fit(X_train_transformed, y_train)\n",
    "\n",
    "# train set\n",
    "y_pred_train_grad = gbrt.predict(X_train_transformed)"
   ]
  },
  {
   "cell_type": "code",
   "execution_count": 59,
   "metadata": {
    "colab": {
     "base_uri": "https://localhost:8080/"
    },
    "id": "GBDdztQvxukM",
    "outputId": "a9024517-47c9-4865-8569-2af704d5629a"
   },
   "outputs": [
    {
     "name": "stdout",
     "output_type": "stream",
     "text": [
      "Mean Absolute Error on Training Set: 31.687216708810624\n"
     ]
    }
   ],
   "source": [
    "print('Mean Absolute Error on Training Set:', mean_absolute_error(y_train, y_pred_train_grad))"
   ]
  },
  {
   "cell_type": "code",
   "execution_count": 60,
   "metadata": {
    "colab": {
     "base_uri": "https://localhost:8080/"
    },
    "id": "uq4iMDTJM8xw",
    "outputId": "5173929f-19d0-49d8-80ad-eec515bd468c"
   },
   "outputs": [
    {
     "name": "stdout",
     "output_type": "stream",
     "text": [
      "R2 score: 0.8918320168602213\n"
     ]
    }
   ],
   "source": [
    "r2 = r2_score(y_train, y_pred_train_grad)\n",
    "\n",
    "print(\"R2 score:\", r2)"
   ]
  },
  {
   "cell_type": "code",
   "execution_count": 61,
   "metadata": {
    "colab": {
     "base_uri": "https://localhost:8080/"
    },
    "id": "zlkO1wsLxxsc",
    "outputId": "25688d54-4c58-45d0-cdfd-620d015684c5"
   },
   "outputs": [
    {
     "data": {
      "text/plain": [
       "50.12805369548912"
      ]
     },
     "execution_count": 61,
     "metadata": {},
     "output_type": "execute_result"
    }
   ],
   "source": [
    "gbrt_scores = (-cross_val_score(gbrt, X_train_transformed, y_train,cv=10, scoring='neg_mean_absolute_error'))\n",
    "gbrt_scores.mean()"
   ]
  },
  {
   "cell_type": "markdown",
   "metadata": {
    "id": "h6FeKPWXwp7K"
   },
   "source": [
    "## Support Vector Machine regressor:"
   ]
  },
  {
   "cell_type": "code",
   "execution_count": 62,
   "metadata": {
    "id": "pQb6F6BPwk1d"
   },
   "outputs": [],
   "source": [
    "from sklearn.svm import LinearSVR\n",
    "\n",
    "svr = LinearSVR(max_iter=10000)\n",
    "svr.fit(X_train_transformed, y_train)\n",
    "\n",
    "#predicting on the train set\n",
    "y_pred_train_SVR = svr.predict(X_train_transformed)"
   ]
  },
  {
   "cell_type": "code",
   "execution_count": 63,
   "metadata": {
    "colab": {
     "base_uri": "https://localhost:8080/"
    },
    "id": "JUVp6_DBwySO",
    "outputId": "afd4822f-78f6-4c3c-f9ce-839711c9ab0f"
   },
   "outputs": [
    {
     "name": "stdout",
     "output_type": "stream",
     "text": [
      "Mean Absolute Error on Training Set: 105.1481801475099\n"
     ]
    }
   ],
   "source": [
    "print('Mean Absolute Error on Training Set:', mean_absolute_error(y_train, y_pred_train_SVR))"
   ]
  },
  {
   "cell_type": "code",
   "execution_count": 64,
   "metadata": {
    "colab": {
     "base_uri": "https://localhost:8080/"
    },
    "id": "12GRsA_zND33",
    "outputId": "337a2ed5-ec89-43ff-c3c2-0e69fff6066f"
   },
   "outputs": [
    {
     "name": "stdout",
     "output_type": "stream",
     "text": [
      "R2 score: -0.19606439233843576\n"
     ]
    }
   ],
   "source": [
    "r2 = r2_score(y_train, y_pred_train_SVR)\n",
    "\n",
    "print(\"R2 score:\", r2)"
   ]
  },
  {
   "cell_type": "code",
   "execution_count": 65,
   "metadata": {
    "colab": {
     "base_uri": "https://localhost:8080/"
    },
    "id": "9jLf-u69GM4D",
    "outputId": "4d9a5305-b782-407c-b6f1-c7b093a3b337"
   },
   "outputs": [
    {
     "data": {
      "text/plain": [
       "119.66729637683213"
      ]
     },
     "execution_count": 65,
     "metadata": {},
     "output_type": "execute_result"
    }
   ],
   "source": [
    "svr_scores = (-cross_val_score(svr, X_train_transformed, y_train,cv=2, scoring='neg_mean_absolute_error'))\n",
    "svr_scores.mean()"
   ]
  },
  {
   "cell_type": "markdown",
   "metadata": {
    "id": "ZQq07Ett0SG0"
   },
   "source": [
    "### Let's perform stacking."
   ]
  },
  {
   "cell_type": "code",
   "execution_count": 66,
   "metadata": {
    "id": "RJ2FKGDk0QOS"
   },
   "outputs": [],
   "source": [
    "from sklearn.ensemble import RandomForestRegressor, GradientBoostingRegressor, AdaBoostRegressor, BaggingRegressor, ExtraTreesRegressor, VotingRegressor\n",
    "from sklearn.linear_model import LinearRegression\n",
    "\n",
    "from sklearn.ensemble import StackingRegressor\n",
    "\n",
    "estimators = [\n",
    "    ('rf', RandomForestRegressor(max_samples=5,min_samples_leaf=3,oob_score = True, n_jobs = -1)),\n",
    "    ('gb', GradientBoostingRegressor(min_samples_leaf = 1,min_samples_split=2)),\n",
    "     ('et', ExtraTreesRegressor(criterion='friedman_mse',min_samples_split=5)),\n",
    "     ('ada', AdaBoostRegressor(learning_rate=0.1, loss='linear')),\n",
    "     ('bag', BaggingRegressor(max_samples=10, max_features=10)),\n",
    "    ('vr', VotingRegressor(estimators=[\n",
    "            ('rf', RandomForestRegressor(max_samples=5,min_samples_leaf=3,n_jobs = -1,oob_score = True)),\n",
    "            #('gb', GradientBoostingRegressor(n_estimators=50, random_state=42))\n",
    "            ('et', ExtraTreesRegressor(n_estimators=10, random_state=42))\n",
    "        ])),\n",
    "]\n",
    "\n",
    "stacker = StackingRegressor(\n",
    "    estimators=estimators,\n",
    "    final_estimator=LinearRegression(n_jobs=1)\n",
    ")\n",
    "\n",
    "stacker.fit(X_train_transformed, y_train)\n",
    "y_pred_stacking = stacker.predict(X_train_transformed)"
   ]
  },
  {
   "cell_type": "code",
   "execution_count": 67,
   "metadata": {
    "colab": {
     "base_uri": "https://localhost:8080/"
    },
    "id": "bA_oQXXz3HFe",
    "outputId": "68617109-c11a-40c2-9a3f-9b75ed3d5aee"
   },
   "outputs": [
    {
     "name": "stdout",
     "output_type": "stream",
     "text": [
      "Mean Absolute Error on Training Set: 14.517242210196255\n"
     ]
    }
   ],
   "source": [
    "print('Mean Absolute Error on Training Set:', mean_absolute_error(y_train, y_pred_stacking))"
   ]
  },
  {
   "cell_type": "code",
   "execution_count": 68,
   "metadata": {
    "colab": {
     "base_uri": "https://localhost:8080/"
    },
    "id": "Cv5FbU4RNy5y",
    "outputId": "612bac54-78da-4ad5-da59-9b7994b8fbe9"
   },
   "outputs": [
    {
     "name": "stdout",
     "output_type": "stream",
     "text": [
      "R2 score: 0.9733929619535776\n"
     ]
    }
   ],
   "source": [
    "r2 = r2_score(y_train, y_pred_stacking)\n",
    "\n",
    "print(\"R2 score:\", r2)"
   ]
  },
  {
   "cell_type": "code",
   "execution_count": 69,
   "metadata": {
    "id": "LCFP6CX-GgIz"
   },
   "outputs": [],
   "source": [
    "#num_folds = 3\n",
    "#stacker_scores = (-cross_val_score(stacker, X_train_transformed, y_train,cv=num_folds,n_jobs=3, scoring='neg_mean_absolute_error'))\n",
    "#stacker_scores.mean()"
   ]
  },
  {
   "cell_type": "markdown",
   "metadata": {
    "id": "zqTuethv1vG3"
   },
   "source": [
    "### Now, let's perform blending."
   ]
  },
  {
   "cell_type": "code",
   "execution_count": 71,
   "metadata": {
    "colab": {
     "base_uri": "https://localhost:8080/"
    },
    "id": "eYzPePr82prX",
    "outputId": "292f72a8-0360-44c3-b515-79bb3ba54770"
   },
   "outputs": [],
   "source": [
    "# from sklearn.metrics import mean_squared_error\n",
    "# mean_squared_error(y_train, y_PRED_BLEND, squared=False)"
   ]
  },
  {
   "cell_type": "markdown",
   "metadata": {
    "id": "779lSr23-GfZ"
   },
   "source": [
    "## Naive Bayes Classifier:"
   ]
  },
  {
   "cell_type": "code",
   "execution_count": 72,
   "metadata": {
    "id": "DIvHNq6W-ABv"
   },
   "outputs": [],
   "source": [
    "from pathlib import Path\n",
    "\n",
    "import pandas as pd\n",
    "from sklearn.model_selection import train_test_split\n",
    "from sklearn.naive_bayes import MultinomialNB\n",
    "from sklearn.naive_bayes import GaussianNB"
   ]
  },
  {
   "cell_type": "code",
   "execution_count": 73,
   "metadata": {
    "id": "hCD75crA-A1l"
   },
   "outputs": [],
   "source": [
    "# # Init the Multinomial Classifier\n",
    "# GNB = GaussianNB()\n",
    "# GNB.fit(X_train_transformed, y_train)\n",
    "# y_PRED_GNB = GNB.predict(X_train_transformed)"
   ]
  },
  {
   "cell_type": "code",
   "execution_count": 74,
   "metadata": {
    "id": "0gOUSgo4-Zm2"
   },
   "outputs": [],
   "source": [
    "# # # Train the model\n",
    "# model.fit(X_train_transformed, y_train)"
   ]
  },
  {
   "cell_type": "markdown",
   "metadata": {
    "id": "bO8UkcCz_RvE"
   },
   "source": [
    "## **CART:**"
   ]
  },
  {
   "cell_type": "markdown",
   "metadata": {
    "id": "8zso8KnVMwn0"
   },
   "source": [
    "## **Decision** **Tree**"
   ]
  },
  {
   "cell_type": "code",
   "execution_count": 75,
   "metadata": {
    "id": "OTLxI7QKB-mp"
   },
   "outputs": [],
   "source": [
    "from sklearn.tree import DecisionTreeRegressor\n",
    "DTR = DecisionTreeRegressor(min_samples_leaf=100,max_features='log2',max_leaf_nodes=400)\n",
    "DTR.fit(X_train_transformed, y_train)\n",
    "y_pred_dtr = DTR.predict(X_train_transformed)"
   ]
  },
  {
   "cell_type": "code",
   "execution_count": 76,
   "metadata": {
    "colab": {
     "base_uri": "https://localhost:8080/"
    },
    "id": "m0CeODlUNE5k",
    "outputId": "58b39546-54ff-49ca-8b2c-366587cc5622"
   },
   "outputs": [
    {
     "name": "stdout",
     "output_type": "stream",
     "text": [
      "Mean Absolute Error on Training Set: 66.28461754450244\n"
     ]
    }
   ],
   "source": [
    "print('Mean Absolute Error on Training Set:', mean_absolute_error(y_train, y_pred_dtr))"
   ]
  },
  {
   "cell_type": "code",
   "execution_count": 77,
   "metadata": {
    "colab": {
     "base_uri": "https://localhost:8080/"
    },
    "id": "ABikjcmxN-wy",
    "outputId": "9fa724f6-30e7-444b-f77e-55356e13accc"
   },
   "outputs": [
    {
     "name": "stdout",
     "output_type": "stream",
     "text": [
      "R2 score: 0.44904000433402635\n"
     ]
    }
   ],
   "source": [
    "r2 = r2_score(y_train, y_pred_dtr)\n",
    "\n",
    "print(\"R2 score:\", r2)"
   ]
  },
  {
   "cell_type": "code",
   "execution_count": 78,
   "metadata": {
    "id": "b_bk7EUCN5v4"
   },
   "outputs": [
    {
     "data": {
      "text/plain": [
       "69.54338168106288"
      ]
     },
     "execution_count": 78,
     "metadata": {},
     "output_type": "execute_result"
    }
   ],
   "source": [
    "num_folds = 3\n",
    "DTR_scores = (-cross_val_score(DTR, X_train_transformed, y_train,cv = num_folds,n_jobs=3, scoring='neg_mean_absolute_error'))\n",
    "DTR_scores.mean()"
   ]
  },
  {
   "cell_type": "markdown",
   "metadata": {
    "id": "qKlgysU9P8hC"
   },
   "source": [
    "## **KNN**"
   ]
  },
  {
   "cell_type": "code",
   "execution_count": 79,
   "metadata": {
    "id": "ve93lmZTP8P2"
   },
   "outputs": [],
   "source": [
    "from sklearn.neighbors import KNeighborsRegressor\n",
    "neigh = KNeighborsRegressor(n_neighbors=2)\n",
    "neigh.fit(X_train_transformed, y_train)\n",
    "y_pred_neigh = neigh.predict(X_train_transformed)"
   ]
  },
  {
   "cell_type": "code",
   "execution_count": 80,
   "metadata": {
    "colab": {
     "base_uri": "https://localhost:8080/"
    },
    "id": "0um4RVsyQIG-",
    "outputId": "86ce0261-500b-4818-805e-7b6b49df3361"
   },
   "outputs": [
    {
     "name": "stdout",
     "output_type": "stream",
     "text": [
      "Mean Absolute Error on Training Set: 66.84801198324195\n"
     ]
    }
   ],
   "source": [
    "print('Mean Absolute Error on Training Set:', mean_absolute_error(y_train, y_pred_neigh))"
   ]
  },
  {
   "cell_type": "code",
   "execution_count": 81,
   "metadata": {
    "colab": {
     "base_uri": "https://localhost:8080/"
    },
    "id": "zJxFniO7OFZ2",
    "outputId": "a4a26bff-9b53-4b93-9520-e43dd76d30b4"
   },
   "outputs": [
    {
     "name": "stdout",
     "output_type": "stream",
     "text": [
      "R2 score: 0.5380161298675857\n"
     ]
    }
   ],
   "source": [
    "r2 = r2_score(y_train, y_pred_neigh)\n",
    "\n",
    "print(\"R2 score:\", r2)"
   ]
  },
  {
   "cell_type": "code",
   "execution_count": 82,
   "metadata": {
    "id": "phjgE8cSQIBO"
   },
   "outputs": [
    {
     "data": {
      "text/plain": [
       "72.44818862361556"
      ]
     },
     "execution_count": 82,
     "metadata": {},
     "output_type": "execute_result"
    }
   ],
   "source": [
    "num_folds = 3\n",
    "neigh_scores = (-cross_val_score(DTR, X_train_transformed, y_train,cv = num_folds,n_jobs=3, scoring='neg_mean_absolute_error'))\n",
    "neigh_scores.mean()"
   ]
  },
  {
   "cell_type": "markdown",
   "metadata": {
    "id": "0fihPv3EoBPT"
   },
   "source": [
    " ## **Neural Net**\n",
    "\n",
    "  "
   ]
  },
  {
   "cell_type": "code",
   "execution_count": 83,
   "metadata": {
    "id": "YoA2iJn3oA5U"
   },
   "outputs": [],
   "source": [
    "from sklearn.neural_network import MLPRegressor\n",
    "\n",
    "\n",
    "# Create the model\n",
    "MLP = MLPRegressor(hidden_layer_sizes=(10,10), activation='relu', solver='adam', max_iter=1000)\n",
    "\n",
    "\n",
    "\n",
    "# Train the model on the training data\n",
    "MLP.fit(X_train_transformed, y_train)\n",
    "\n",
    "# Make predictions on the test data\n",
    "y_pred_MLP = MLP.predict(X_train_transformed)\n",
    "\n"
   ]
  },
  {
   "cell_type": "code",
   "execution_count": 84,
   "metadata": {
    "colab": {
     "base_uri": "https://localhost:8080/"
    },
    "id": "vNuVaQNqoPep",
    "outputId": "e0670f60-21c9-499b-9589-de783836de9b"
   },
   "outputs": [
    {
     "name": "stdout",
     "output_type": "stream",
     "text": [
      "Mean Absolute Error on Training Set: 76.97527865381437\n"
     ]
    }
   ],
   "source": [
    "print('Mean Absolute Error on Training Set:', mean_absolute_error(y_train, y_pred_MLP))"
   ]
  },
  {
   "cell_type": "code",
   "execution_count": 85,
   "metadata": {
    "colab": {
     "base_uri": "https://localhost:8080/"
    },
    "id": "xhz7Jf-IOLPQ",
    "outputId": "071294f0-a859-4461-fa15-81b125b42696"
   },
   "outputs": [
    {
     "name": "stdout",
     "output_type": "stream",
     "text": [
      "R2 score: 0.31751222222163267\n"
     ]
    }
   ],
   "source": [
    "r2 = r2_score(y_train, y_pred_MLP)\n",
    "\n",
    "print(\"R2 score:\", r2)"
   ]
  },
  {
   "cell_type": "markdown",
   "metadata": {
    "id": "YtKLgOB2o62F"
   },
   "source": [
    "## **Decision Tree plot tree**"
   ]
  },
  {
   "cell_type": "code",
   "execution_count": 86,
   "metadata": {
    "colab": {
     "base_uri": "https://localhost:8080/",
     "height": 807
    },
    "id": "b6QJYyQVoYEI",
    "outputId": "d6500a31-227b-46e4-865e-c95fe1d30b38"
   },
   "outputs": [
    {
     "data": {
      "image/png": "[encoded data removed]",
      "text/plain": [
       "<Figure size 1500x1000 with 1 Axes>"
      ]
     },
     "metadata": {},
     "output_type": "display_data"
    }
   ],
   "source": [
    "from sklearn.tree import DecisionTreeRegressor, plot_tree\n",
    "\n",
    "import matplotlib.pyplot as plt\n",
    "\n",
    "# Create the model\n",
    "DTR2 = DecisionTreeRegressor(max_depth=3)\n",
    "\n",
    "\n",
    "\n",
    "# Train the model on the training data\n",
    "DTR2.fit(X_train_transformed, y_train)\n",
    "\n",
    "# Make predictions on the test data\n",
    "y_pred_DTR2 = DTR2.predict(X_train_transformed)\n",
    "\n",
    "\n",
    "\n",
    "# Plot the decision tree\n",
    "plt.figure(figsize=(15,10))\n",
    "plot_tree(DTR2, filled=True)\n",
    "plt.show()\n"
   ]
  },
  {
   "cell_type": "code",
   "execution_count": 87,
   "metadata": {
    "colab": {
     "base_uri": "https://localhost:8080/"
    },
    "id": "pqaYHaotpLGf",
    "outputId": "87f1e186-28eb-49a2-f38e-419469b50bc7"
   },
   "outputs": [
    {
     "name": "stdout",
     "output_type": "stream",
     "text": [
      "Mean Absolute Error on Training Set: 73.13601496756678\n"
     ]
    }
   ],
   "source": [
    "print('Mean Absolute Error on Training Set:', mean_absolute_error(y_train, y_pred_DTR2))"
   ]
  },
  {
   "cell_type": "markdown",
   "metadata": {
    "id": "4ylpUt4rpxml"
   },
   "source": [
    "## **Naive bayes**\n"
   ]
  },
  {
   "cell_type": "code",
   "execution_count": 88,
   "metadata": {
    "id": "PQ4RZVsMqPFw"
   },
   "outputs": [],
   "source": [
    "#y_train = X_train_transformed['price']\n"
   ]
  },
  {
   "cell_type": "code",
   "execution_count": 89,
   "metadata": {
    "id": "Gjj1GcAGpyzk"
   },
   "outputs": [],
   "source": [
    "# from sklearn.naive_bayes import GaussianNB\n",
    "\n",
    "\n",
    "# Create the model\n",
    "# NBG = GaussianNB()\n",
    "\n",
    "\n",
    "# Train the model on the training data\n",
    "# NBG.fit(X_train_transformed, y_train)\n",
    "\n",
    "# Make predictions on the test data\n",
    "# y_pred_NBG = NBG.predict(X_train_transformed)\n",
    "\n",
    "\n"
   ]
  },
  {
   "cell_type": "code",
   "execution_count": 90,
   "metadata": {
    "id": "Vv3flPt0pzF6"
   },
   "outputs": [],
   "source": [
    "#print('Mean Absolute Error on Training Set:', mean_absolute_error(y_train, y_pred_NBG))"
   ]
  },
  {
   "cell_type": "markdown",
   "metadata": {
    "id": "9ndS2Ej7RW8L"
   },
   "source": [
    "## Blending\n"
   ]
  },
  {
   "cell_type": "code",
   "execution_count": 91,
   "metadata": {
    "id": "0Oh8WaVUpfiu"
   },
   "outputs": [],
   "source": [
    "# from sklearn.ensemble import RandomForestRegressor\n",
    "# RFGN = RandomForestRegressor(max_samples=5,min_samples_leaf=3,oob_score = True, n_jobs = -1)\n",
    "# from sklearn.ensemble import GradientBoostingRegressor\n",
    "\n",
    "# GBRT = GradientBoostingRegressor(min_samples_leaf = 1,min_samples_split=2)\n",
    "\n",
    "# RFGN.fit(X_train_transformed, y_train)\n",
    "# y_PRED1 = RFGN.predict(X_train_transformed)\n",
    "\n",
    "# GBRT.fit(X_train_transformed, y_train)\n",
    "# y_PRED2 = GBRT.predict(X_train_transformed)"
   ]
  },
  {
   "cell_type": "code",
   "execution_count": 92,
   "metadata": {
    "id": "oh6i-W-HppNO"
   },
   "outputs": [],
   "source": [
    "#y_PRED_BLEND_new = (y_PRED1+y_PRED2)/2"
   ]
  },
  {
   "cell_type": "code",
   "execution_count": 93,
   "metadata": {
    "id": "Z-4LS_nKppKT"
   },
   "outputs": [],
   "source": [
    "#print('Mean Absolute Error on Training Set:', mean_absolute_error(y_train, y_PRED_BLEND_new))"
   ]
  },
  {
   "cell_type": "markdown",
   "metadata": {
    "id": "ttCvO4ITw9Au"
   },
   "source": [
    "## Hyper Parameter Tuned Random Forest"
   ]
  },
  {
   "cell_type": "code",
   "execution_count": 94,
   "metadata": {
    "colab": {
     "base_uri": "https://localhost:8080/"
    },
    "id": "kjmnw9pDrnhx",
    "outputId": "afd5f69c-c0e6-4ee6-ae27-cb0985152e6a"
   },
   "outputs": [
    {
     "name": "stdout",
     "output_type": "stream",
     "text": [
      "Fitting 4 folds for each of 7 candidates, totalling 28 fits\n"
     ]
    }
   ],
   "source": [
    "from sklearn.model_selection import RandomizedSearchCV\n",
    "from scipy.stats import randint, uniform\n",
    "n_estimators = randint(60, 105)\n",
    "max_features = uniform(0, 1)\n",
    "max_depth = [8,11,12,13]\n",
    "\n",
    "forest_rig_model = RandomForestRegressor(random_state=42)\n",
    "\n",
    "param_dist = dict(n_estimators=n_estimators, max_features=max_features, max_depth=max_depth)\n",
    "\n",
    "rand = RandomizedSearchCV(forest_rig_model, \n",
    "                          param_dist, \n",
    "                          cv=4,\n",
    "                          scoring='neg_mean_absolute_error', \n",
    "                          n_iter=7, \n",
    "                          random_state=42, \n",
    "                          verbose=10, \n",
    "                          n_jobs=-1) \n",
    "# print(\"Best parameters:\", rand)\n",
    "rand.fit(X_train_transformed, y_train)\n",
    "y_pred_rand = rand.predict(X_train_transformed)"
   ]
  },
  {
   "cell_type": "code",
   "execution_count": 95,
   "metadata": {
    "colab": {
     "base_uri": "https://localhost:8080/"
    },
    "id": "wwcdJxHYsCQx",
    "outputId": "82c191a6-669c-49f5-f9f8-a55249bf8b93"
   },
   "outputs": [
    {
     "name": "stdout",
     "output_type": "stream",
     "text": [
      "Mean Absolute Error on Training Set: 39.00689116687811\n"
     ]
    }
   ],
   "source": [
    "print('Mean Absolute Error on Training Set:', mean_absolute_error(y_train, y_pred_rand))"
   ]
  },
  {
   "cell_type": "code",
   "execution_count": 96,
   "metadata": {
    "colab": {
     "base_uri": "https://localhost:8080/"
    },
    "id": "v20U1FDAORTa",
    "outputId": "28a8f401-0b95-4bfc-edf4-b43689550db6"
   },
   "outputs": [
    {
     "name": "stdout",
     "output_type": "stream",
     "text": [
      "R2 score: 0.8328407393149952\n"
     ]
    }
   ],
   "source": [
    "r2 = r2_score(y_train, y_pred_rand)\n",
    "\n",
    "print(\"R2 score:\", r2)"
   ]
  },
  {
   "cell_type": "markdown",
   "metadata": {},
   "source": [
    "## Blending"
   ]
  },
  {
   "cell_type": "code",
   "execution_count": 137,
   "metadata": {
    "colab": {
     "base_uri": "https://localhost:8080/"
    },
    "id": "M-nWEF4vV2or",
    "outputId": "8a1305f0-db35-43aa-f08d-e18d63ca9053"
   },
   "outputs": [
    {
     "name": "stdout",
     "output_type": "stream",
     "text": [
      "Mean Absolute Error on Training Set: 34.62260240638523\n"
     ]
    }
   ],
   "source": [
    "y_PRED_BLEND_new_train = (y_pred_rand+y_pred_train_grad)/2\n",
    "print('Mean Absolute Error on Training Set:', mean_absolute_error(y_train, y_PRED_BLEND_new_train))"
   ]
  },
  {
   "cell_type": "code",
   "execution_count": 138,
   "metadata": {},
   "outputs": [
    {
     "name": "stdout",
     "output_type": "stream",
     "text": [
      "R2 score: 0.8702850746578018\n"
     ]
    }
   ],
   "source": [
    "r2 = r2_score(y_train, y_PRED_BLEND_new_train)\n",
    "\n",
    "print(\"R2 score:\", r2)"
   ]
  },
  {
   "cell_type": "code",
   "execution_count": 98,
   "metadata": {
    "id": "yCdTaRElKz1j"
   },
   "outputs": [],
   "source": [
    "# # num_folds=3\n",
    "# # HPT_rand_scores = (-cross_val_score(rand, X_train_transformed, y_train,cv = num_folds,n_jobs=3, scoring='neg_mean_absolute_error'))\n",
    "# HPT_rand_scores.mean()"
   ]
  },
  {
   "cell_type": "code",
   "execution_count": 99,
   "metadata": {
    "colab": {
     "base_uri": "https://localhost:8080/"
    },
    "id": "RlJs8axZuET8",
    "outputId": "517efb57-7a4e-4476-b2d2-66e576c078d1"
   },
   "outputs": [
    {
     "name": "stdout",
     "output_type": "stream",
     "text": [
      "Fitting 4 folds for each of 7 candidates, totalling 28 fits\n",
      "[CV 1/4; 1/7] START max_depth=12, max_features=0.7965429868602328, n_estimators=74\n",
      "[CV 1/4; 1/7] END max_depth=12, max_features=0.7965429868602328, n_estimators=74;, score=-51.994 total time=  28.7s\n",
      "[CV 2/4; 1/7] START max_depth=12, max_features=0.7965429868602328, n_estimators=74\n",
      "[CV 2/4; 1/7] END max_depth=12, max_features=0.7965429868602328, n_estimators=74;, score=-47.522 total time=  28.8s\n",
      "[CV 3/4; 1/7] START max_depth=12, max_features=0.7965429868602328, n_estimators=74\n",
      "[CV 3/4; 1/7] END max_depth=12, max_features=0.7965429868602328, n_estimators=74;, score=-48.442 total time=  28.7s\n",
      "[CV 4/4; 1/7] START max_depth=12, max_features=0.7965429868602328, n_estimators=74\n",
      "[CV 4/4; 1/7] END max_depth=12, max_features=0.7965429868602328, n_estimators=74;, score=-54.504 total time=  28.8s\n",
      "[CV 1/4; 2/7] START max_depth=12, max_features=0.7796910002727693, n_estimators=80\n",
      "[CV 1/4; 2/7] END max_depth=12, max_features=0.7796910002727693, n_estimators=80;, score=-51.409 total time=  30.3s\n",
      "[CV 2/4; 2/7] START max_depth=12, max_features=0.7796910002727693, n_estimators=80\n",
      "[CV 2/4; 2/7] END max_depth=12, max_features=0.7796910002727693, n_estimators=80;, score=-47.991 total time=  30.2s\n",
      "[CV 3/4; 2/7] START max_depth=12, max_features=0.7796910002727693, n_estimators=80\n",
      "[CV 3/4; 2/7] END max_depth=12, max_features=0.7796910002727693, n_estimators=80;, score=-47.549 total time=  30.3s\n",
      "[CV 4/4; 2/7] START max_depth=12, max_features=0.7796910002727693, n_estimators=80\n",
      "[CV 4/4; 2/7] END max_depth=12, max_features=0.7796910002727693, n_estimators=80;, score=-54.040 total time=  30.3s\n",
      "[CV 1/4; 3/7] START max_depth=12, max_features=0.44583275285359114, n_estimators=82\n",
      "[CV 1/4; 3/7] END max_depth=12, max_features=0.44583275285359114, n_estimators=82;, score=-51.239 total time=  18.0s\n",
      "[CV 2/4; 3/7] START max_depth=12, max_features=0.44583275285359114, n_estimators=82\n",
      "[CV 2/4; 3/7] END max_depth=12, max_features=0.44583275285359114, n_estimators=82;, score=-47.612 total time=  17.8s\n",
      "[CV 3/4; 3/7] START max_depth=12, max_features=0.44583275285359114, n_estimators=82\n",
      "[CV 2/4; 1/7] START max_depth=12, max_features=0.7965429868602328, n_estimators=74\n",
      "[CV 2/4; 1/7] END max_depth=12, max_features=0.7965429868602328, n_estimators=74;, score=-50.322 total time=  30.1s\n",
      "[CV 1/4; 3/7] START max_depth=12, max_features=0.44583275285359114, n_estimators=82\n",
      "[CV 1/4; 3/7] END max_depth=12, max_features=0.44583275285359114, n_estimators=82;, score=-52.827 total time=  17.9s\n",
      "[CV 1/4; 5/7] START max_depth=13, max_features=0.7080725777960455, n_estimators=81\n",
      "[CV 1/4; 5/7] END max_depth=13, max_features=0.7080725777960455, n_estimators=81;, score=-52.571 total time=  32.0s\n",
      "[CV 1/4; 7/7] START max_depth=11, max_features=0.21233911067827616, n_estimators=80\n",
      "[CV 1/4; 7/7] END max_depth=11, max_features=0.21233911067827616, n_estimators=80;, score=-55.355 total time=   8.1s\n",
      "[CV 4/4; 1/7] START max_depth=12, max_features=0.7965429868602328, n_estimators=74\n",
      "[CV 4/4; 1/7] END max_depth=12, max_features=0.7965429868602328, n_estimators=74;, score=-53.442 total time=  30.4s\n",
      "[CV 4/4; 3/7] START max_depth=12, max_features=0.44583275285359114, n_estimators=82\n",
      "[CV 4/4; 3/7] END max_depth=12, max_features=0.44583275285359114, n_estimators=82;, score=-54.133 total time=  18.0s\n",
      "[CV 3/4; 5/7] START max_depth=13, max_features=0.7080725777960455, n_estimators=81\n",
      "[CV 3/4; 5/7] END max_depth=13, max_features=0.7080725777960455, n_estimators=81;, score=-49.866 total time=  32.4s\n",
      "[CV 2/4; 7/7] START max_depth=11, max_features=0.21233911067827616, n_estimators=80\n",
      "[CV 2/4; 7/7] END max_depth=11, max_features=0.21233911067827616, n_estimators=80;, score=-53.366 total time=   8.0s\n",
      "[CV 3/4; 2/7] START max_depth=12, max_features=0.7796910002727693, n_estimators=80\n",
      "[CV 3/4; 2/7] END max_depth=12, max_features=0.7796910002727693, n_estimators=80;, score=-50.142 total time=  31.5s\n",
      "[CV 1/4; 4/7] START max_depth=12, max_features=0.45924889196586716, n_estimators=95\n",
      "[CV 1/4; 4/7] END max_depth=12, max_features=0.45924889196586716, n_estimators=95;, score=-52.824 total time=  22.0s\n",
      "[CV 1/4; 6/7] START max_depth=8, max_features=0.9699098521619943, n_estimators=103\n",
      "[CV 1/4; 6/7] END max_depth=8, max_features=0.9699098521619943, n_estimators=103;, score=-55.316 total time=  35.3s\n",
      "[CV 1/4; 1/7] START max_depth=12, max_features=0.7965429868602328, n_estimators=74\n",
      "[CV 1/4; 1/7] END max_depth=12, max_features=0.7965429868602328, n_estimators=74;, score=-52.166 total time=  30.3s\n",
      "[CV 2/4; 3/7] START max_depth=12, max_features=0.44583275285359114, n_estimators=82\n",
      "[CV 2/4; 3/7] END max_depth=12, max_features=0.44583275285359114, n_estimators=82;, score=-50.861 total time=  18.1s\n",
      "[CV 2/4; 5/7] START max_depth=13, max_features=0.7080725777960455, n_estimators=81\n",
      "[CV 2/4; 5/7] END max_depth=13, max_features=0.7080725777960455, n_estimators=81;, score=-49.994 total time=  32.7s\n",
      "[CV 3/4; 7/7] START max_depth=11, max_features=0.21233911067827616, n_estimators=80\n",
      "[CV 3/4; 7/7] END max_depth=11, max_features=0.21233911067827616, n_estimators=80;, score=-52.937 total time=   7.9s\n",
      "[CV 4/4; 2/7] START max_depth=12, max_features=0.7796910002727693, n_estimators=80\n",
      "[CV 4/4; 2/7] END max_depth=12, max_features=0.7796910002727693, n_estimators=80;, score=-53.375 total time=  31.7s\n",
      "[CV 3/4; 4/7] START max_depth=12, max_features=0.45924889196586716, n_estimators=95\n",
      "[CV 3/4; 4/7] END max_depth=12, max_features=0.45924889196586716, n_estimators=95;, score=-50.160 total time=  22.0s\n",
      "[CV 3/4; 6/7] START max_depth=8, max_features=0.9699098521619943, n_estimators=103\n",
      "[CV 3/4; 6/7] END max_depth=8, max_features=0.9699098521619943, n_estimators=103;, score=-53.685 total time=  35.4s\n",
      "[CV 3/4; 1/7] START max_depth=12, max_features=0.7965429868602328, n_estimators=74\n",
      "[CV 3/4; 1/7] END max_depth=12, max_features=0.7965429868602328, n_estimators=74;, score=-50.254 total time=  30.4s\n",
      "[CV 3/4; 3/7] START max_depth=12, max_features=0.44583275285359114, n_estimators=82\n",
      "[CV 3/4; 3/7] END max_depth=12, max_features=0.44583275285359114, n_estimators=82;, score=-50.158 total time=  18.2s\n",
      "[CV 4/4; 5/7] START max_depth=13, max_features=0.7080725777960455, n_estimators=81\n",
      "[CV 4/4; 5/7] END max_depth=13, max_features=0.7080725777960455, n_estimators=81;, score=-54.194 total time=  32.6s\n",
      "[CV 4/4; 7/7] START max_depth=11, max_features=0.21233911067827616, n_estimators=80\n",
      "[CV 4/4; 7/7] END max_depth=11, max_features=0.21233911067827616, n_estimators=80;, score=-56.000 total time=   8.0s\n",
      "[CV 1/4; 2/7] START max_depth=12, max_features=0.7796910002727693, n_estimators=80\n",
      "[CV 1/4; 2/7] END max_depth=12, max_features=0.7796910002727693, n_estimators=80;, score=-52.406 total time=  31.6s\n",
      "[CV 2/4; 4/7] START max_depth=12, max_features=0.45924889196586716, n_estimators=95\n",
      "[CV 2/4; 4/7] END max_depth=12, max_features=0.45924889196586716, n_estimators=95;, score=-50.614 total time=  22.2s\n",
      "[CV 2/4; 6/7] START max_depth=8, max_features=0.9699098521619943, n_estimators=103\n",
      "[CV 2/4; 6/7] END max_depth=8, max_features=0.9699098521619943, n_estimators=103;, score=-54.309 total time=  35.6s\n",
      "[CV 2/4; 2/7] START max_depth=12, max_features=0.7796910002727693, n_estimators=80\n",
      "[CV 2/4; 2/7] END max_depth=12, max_features=0.7796910002727693, n_estimators=80;, score=-50.389 total time=  31.8s\n",
      "[CV 4/4; 4/7] START max_depth=12, max_features=0.45924889196586716, n_estimators=95\n",
      "[CV 4/4; 4/7] END max_depth=12, max_features=0.45924889196586716, n_estimators=95;, score=-54.029 total time=  22.1s\n",
      "[CV 4/4; 6/7] START max_depth=8, max_features=0.9699098521619943, n_estimators=103\n",
      "[CV 4/4; 6/7] END max_depth=8, max_features=0.9699098521619943, n_estimators=103;, score=-54.298 total time=  35.4s\n",
      "[CV 3/4; 3/7] END max_depth=12, max_features=0.44583275285359114, n_estimators=82;, score=-47.887 total time=  17.9s\n",
      "[CV 4/4; 3/7] START max_depth=12, max_features=0.44583275285359114, n_estimators=82\n",
      "[CV 4/4; 3/7] END max_depth=12, max_features=0.44583275285359114, n_estimators=82;, score=-54.929 total time=  17.8s\n",
      "[CV 1/4; 4/7] START max_depth=12, max_features=0.45924889196586716, n_estimators=95\n",
      "[CV 1/4; 4/7] END max_depth=12, max_features=0.45924889196586716, n_estimators=95;, score=-50.935 total time=  21.7s\n",
      "[CV 2/4; 4/7] START max_depth=12, max_features=0.45924889196586716, n_estimators=95\n"
     ]
    },
    {
     "name": "stdout",
     "output_type": "stream",
     "text": [
      "[CV 2/4; 4/7] END max_depth=12, max_features=0.45924889196586716, n_estimators=95;, score=-47.124 total time=  22.3s\n",
      "[CV 3/4; 4/7] START max_depth=12, max_features=0.45924889196586716, n_estimators=95\n",
      "[CV 3/4; 4/7] END max_depth=12, max_features=0.45924889196586716, n_estimators=95;, score=-47.297 total time=  21.8s\n",
      "[CV 4/4; 4/7] START max_depth=12, max_features=0.45924889196586716, n_estimators=95\n",
      "[CV 4/4; 4/7] END max_depth=12, max_features=0.45924889196586716, n_estimators=95;, score=-53.525 total time=  21.7s\n",
      "[CV 1/4; 5/7] START max_depth=13, max_features=0.7080725777960455, n_estimators=81\n",
      "[CV 1/4; 5/7] END max_depth=13, max_features=0.7080725777960455, n_estimators=81;, score=-51.882 total time=  29.9s\n",
      "[CV 2/4; 5/7] START max_depth=13, max_features=0.7080725777960455, n_estimators=81\n",
      "[CV 2/4; 5/7] END max_depth=13, max_features=0.7080725777960455, n_estimators=81;, score=-48.185 total time=  30.2s\n",
      "[CV 3/4; 5/7] START max_depth=13, max_features=0.7080725777960455, n_estimators=81\n",
      "[CV 3/4; 5/7] END max_depth=13, max_features=0.7080725777960455, n_estimators=81;, score=-47.922 total time=  30.0s\n",
      "[CV 4/4; 5/7] START max_depth=13, max_features=0.7080725777960455, n_estimators=81\n",
      "[CV 4/4; 5/7] END max_depth=13, max_features=0.7080725777960455, n_estimators=81;, score=-54.779 total time=  29.9s\n",
      "[CV 1/4; 6/7] START max_depth=8, max_features=0.9699098521619943, n_estimators=103\n",
      "[CV 1/4; 6/7] END max_depth=8, max_features=0.9699098521619943, n_estimators=103;, score=-50.087 total time=  32.8s\n",
      "[CV 2/4; 6/7] START max_depth=8, max_features=0.9699098521619943, n_estimators=103\n",
      "[CV 2/4; 6/7] END max_depth=8, max_features=0.9699098521619943, n_estimators=103;, score=-47.015 total time=  33.2s\n",
      "[CV 3/4; 6/7] START max_depth=8, max_features=0.9699098521619943, n_estimators=103\n",
      "[CV 3/4; 6/7] END max_depth=8, max_features=0.9699098521619943, n_estimators=103;, score=-47.921 total time=  33.1s\n",
      "[CV 4/4; 6/7] START max_depth=8, max_features=0.9699098521619943, n_estimators=103\n",
      "[CV 4/4; 6/7] END max_depth=8, max_features=0.9699098521619943, n_estimators=103;, score=-53.667 total time=  33.0s\n",
      "[CV 1/4; 7/7] START max_depth=11, max_features=0.21233911067827616, n_estimators=80\n",
      "[CV 1/4; 7/7] END max_depth=11, max_features=0.21233911067827616, n_estimators=80;, score=-51.741 total time=   7.5s\n",
      "[CV 2/4; 7/7] START max_depth=11, max_features=0.21233911067827616, n_estimators=80\n",
      "[CV 2/4; 7/7] END max_depth=11, max_features=0.21233911067827616, n_estimators=80;, score=-48.107 total time=   7.5s\n",
      "[CV 3/4; 7/7] START max_depth=11, max_features=0.21233911067827616, n_estimators=80\n",
      "[CV 3/4; 7/7] END max_depth=11, max_features=0.21233911067827616, n_estimators=80;, score=-47.948 total time=   7.5s\n",
      "[CV 4/4; 7/7] START max_depth=11, max_features=0.21233911067827616, n_estimators=80\n",
      "[CV 4/4; 7/7] END max_depth=11, max_features=0.21233911067827616, n_estimators=80;, score=-55.130 total time=   7.5s\n"
     ]
    }
   ],
   "source": [
    "from sklearn.model_selection import RandomizedSearchCV\n",
    "from scipy.stats import randint, uniform\n",
    "# Parameters\n",
    "n_estimators = randint(60, 105)\n",
    "max_features = uniform(0, 1)\n",
    "max_depth = [8,11,12,13]\n",
    "\n",
    "GBR_model = GradientBoostingRegressor(random_state=42)\n",
    "\n",
    "param_dist = dict(n_estimators=n_estimators, max_features=max_features, max_depth=max_depth)\n",
    "\n",
    "rand2 = RandomizedSearchCV(GBR_model, \n",
    "                          param_dist, \n",
    "                          cv=4,\n",
    "                          scoring='neg_mean_absolute_error', \n",
    "                          n_iter=7, \n",
    "                          random_state=42, \n",
    "                          verbose=10\n",
    "                        ) \n",
    "# fit the model\n",
    "rand2.fit(X_train_transformed, y_train)\n",
    "y_pred_rand2 = rand2.predict(X_train_transformed)"
   ]
  },
  {
   "cell_type": "code",
   "execution_count": 100,
   "metadata": {
    "colab": {
     "base_uri": "https://localhost:8080/"
    },
    "id": "_lfHMyYjgQ67",
    "outputId": "6a460501-dff0-40be-d325-29d0b3dd6b81"
   },
   "outputs": [
    {
     "name": "stdout",
     "output_type": "stream",
     "text": [
      "Best parameters found: {'max_depth': 8, 'max_features': 0.9699098521619943, 'n_estimators': 103}\n"
     ]
    }
   ],
   "source": [
    "print(\"Best parameters found:\", rand2.best_params_)"
   ]
  },
  {
   "cell_type": "code",
   "execution_count": 101,
   "metadata": {
    "colab": {
     "base_uri": "https://localhost:8080/"
    },
    "id": "k8a8Fo9fud6f",
    "outputId": "9dafe1e7-696a-4bd8-fe8d-7bc95767c6bd"
   },
   "outputs": [
    {
     "name": "stdout",
     "output_type": "stream",
     "text": [
      "Mean Absolute Error on Training Set: 32.109805148339426\n"
     ]
    }
   ],
   "source": [
    "print('Mean Absolute Error on Training Set:', mean_absolute_error(y_train, y_pred_rand2))"
   ]
  },
  {
   "cell_type": "code",
   "execution_count": 102,
   "metadata": {
    "colab": {
     "base_uri": "https://localhost:8080/"
    },
    "id": "BqtyFho3OZly",
    "outputId": "d69c214c-082c-4bac-a74f-d71aee826543"
   },
   "outputs": [
    {
     "name": "stdout",
     "output_type": "stream",
     "text": [
      "R2 score: 0.8889306554272183\n"
     ]
    }
   ],
   "source": [
    "r2 = r2_score(y_train, y_pred_rand2)\n",
    "\n",
    "print(\"R2 score:\", r2)"
   ]
  },
  {
   "cell_type": "code",
   "execution_count": 103,
   "metadata": {
    "id": "TSc07_6FK-OV"
   },
   "outputs": [],
   "source": [
    "# # anum_folds = 3\n",
    "# HPT_rand2_scores = (-cross_val_score(rand2, X_train_transformed, y_train,cv = num_folds,n_jobs=3, scoring='neg_mean_absolute_error'))\n",
    "# HPT_rand2_scores.mean()"
   ]
  },
  {
   "cell_type": "code",
   "execution_count": 104,
   "metadata": {
    "id": "gnXfc79OO1wX"
   },
   "outputs": [],
   "source": [
    "stacker_scores =52\n",
    "DTR_scores = 66\n",
    "HPT_rand_scores = 35\n",
    "HPT_rand2_scores = 31"
   ]
  },
  {
   "cell_type": "code",
   "execution_count": 105,
   "metadata": {
    "id": "BxxWxMW8molv"
   },
   "outputs": [
    {
     "data": {
      "image/png": "[encoded data removed]",
      "text/plain": [
       "<Figure size 1000x500 with 1 Axes>"
      ]
     },
     "metadata": {},
     "output_type": "display_data"
    }
   ],
   "source": [
    "import matplotlib.pyplot as plt\n",
    "\n",
    "# List of model names and their corresponding scores\n",
    "model_scores = {\n",
    "    \n",
    "    \"Linear Regressor\": lin_reg_scores,\n",
    "    \"Random Forest\": forest_reg_scores,\n",
    "    \"Gradient Boost\": gbrt_scores,\n",
    "    \"Support Vector Machines\": svr_scores,\n",
    "    \"Stacking Regressor\":stacker_scores ,\n",
    "    \"DecisionTree Regressor\":DTR_scores ,\n",
    "    \"KNN Regressor\": DTR_scores,\n",
    "    \"Hypter-Tuned Random Forest Regressor\":HPT_rand_scores ,\n",
    "    \"Hypter-Tuned Gradiant Boosting Regressor\":HPT_rand2_scores\n",
    "}\n",
    "\n",
    "# Create a list of the scores for each model\n",
    "scores_list = list(model_scores.values())\n",
    "\n",
    "# Create a list of the model names\n",
    "model_names = list(model_scores.keys())\n",
    "\n",
    "# Create a box plot of the scores\n",
    "fig, ax = plt.subplots(figsize=(10, 5))\n",
    "ax.boxplot(scores_list)\n",
    "ax.set_xticklabels(model_names, rotation=45, fontsize=5)\n",
    "ax.set_title(\"Model Performance Comparison\", fontsize=7)\n",
    "ax.set_ylabel(\"Mean-Absolute Error\", fontsize=7)\n",
    "plt.show()\n",
    "\n",
    "fig.savefig('algcomparison.png',bbox_inches='tight', dpi=500, facecolor = '#dadada')\n"
   ]
  },
  {
   "cell_type": "code",
   "execution_count": 106,
   "metadata": {
    "colab": {
     "base_uri": "https://localhost:8080/",
     "height": 556
    },
    "id": "uyJ14SuHQWBK",
    "outputId": "d5c218b6-d113-4a3b-ec91-61d96282e661"
   },
   "outputs": [],
   "source": [
    "#Image('modelcompare.png')"
   ]
  },
  {
   "cell_type": "markdown",
   "metadata": {
    "id": "UQJykWoMRaZL"
   },
   "source": [
    "## Evaluating our model on Test set"
   ]
  },
  {
   "cell_type": "code",
   "execution_count": 107,
   "metadata": {
    "id": "VIgSIUtM0Hec"
   },
   "outputs": [],
   "source": [
    "X_test = strat_test_set.drop('price', axis=1)\n",
    "y_test = strat_test_set['price']"
   ]
  },
  {
   "cell_type": "code",
   "execution_count": 108,
   "metadata": {
    "id": "WT0Dcu8p0l-u"
   },
   "outputs": [
    {
     "name": "stdout",
     "output_type": "stream",
     "text": [
      "<class 'pandas.core.frame.DataFrame'>\n",
      "Int64Index: 8116 entries, 10844 to 8367\n",
      "Data columns (total 42 columns):\n",
      " #   Column                                       Non-Null Count  Dtype         \n",
      "---  ------                                       --------------  -----         \n",
      " 0   id                                           8116 non-null   float64       \n",
      " 1   description                                  8116 non-null   object        \n",
      " 2   host_since                                   8116 non-null   object        \n",
      " 3   host_location                                8116 non-null   object        \n",
      " 4   host_response_time                           8116 non-null   object        \n",
      " 5   host_response_rate                           8116 non-null   float64       \n",
      " 6   host_acceptance_rate                         8116 non-null   object        \n",
      " 7   host_is_superhost                            8116 non-null   float64       \n",
      " 8   host_listings_count                          8116 non-null   float64       \n",
      " 9   neighbourhood                                8116 non-null   object        \n",
      " 10  neighbourhood_cleansed                       8116 non-null   object        \n",
      " 11  neighbourhood_group_cleansed                 8116 non-null   object        \n",
      " 12  latitude                                     8116 non-null   float64       \n",
      " 13  longitude                                    8116 non-null   float64       \n",
      " 14  property_type                                8116 non-null   object        \n",
      " 15  room_type                                    8116 non-null   object        \n",
      " 16  accommodates                                 8116 non-null   object        \n",
      " 17  bathrooms_text                               8116 non-null   object        \n",
      " 18  bedrooms                                     8116 non-null   float64       \n",
      " 19  beds                                         8116 non-null   object        \n",
      " 20  amenities                                    8116 non-null   object        \n",
      " 21  minimum_nights                               8116 non-null   float64       \n",
      " 22  maximum_nights                               8116 non-null   float64       \n",
      " 23  has_availability                             8116 non-null   float64       \n",
      " 24  availability_30                              8116 non-null   float64       \n",
      " 25  availability_365                             8116 non-null   float64       \n",
      " 26  number_of_reviews                            8116 non-null   float64       \n",
      " 27  number_of_reviews_l30d                       8116 non-null   float64       \n",
      " 28  first_review                                 8116 non-null   datetime64[ns]\n",
      " 29  last_review                                  8116 non-null   datetime64[ns]\n",
      " 30  review_scores_rating                         8116 non-null   float64       \n",
      " 31  review_scores_accuracy                       8116 non-null   float64       \n",
      " 32  review_scores_cleanliness                    8116 non-null   float64       \n",
      " 33  review_scores_checkin                        8116 non-null   float64       \n",
      " 34  review_scores_communication                  8116 non-null   float64       \n",
      " 35  review_scores_location                       8116 non-null   float64       \n",
      " 36  review_scores_value                          8116 non-null   float64       \n",
      " 37  instant_bookable                             8116 non-null   float64       \n",
      " 38  calculated_host_listings_count               8116 non-null   float64       \n",
      " 39  calculated_host_listings_count_shared_rooms  8116 non-null   float64       \n",
      " 40  reviews_per_month                            8116 non-null   float64       \n",
      " 41  time_since_first_review                      8116 non-null   float64       \n",
      "dtypes: datetime64[ns](2), float64(26), object(14)\n",
      "memory usage: 2.7+ MB\n"
     ]
    }
   ],
   "source": [
    "X_test.info()"
   ]
  },
  {
   "cell_type": "code",
   "execution_count": 109,
   "metadata": {
    "id": "W7WPyt7qaPN9"
   },
   "outputs": [],
   "source": [
    "X_test.first_review = X_test.first_review.apply(lambda x:x.toordinal())\n",
    "X_test.last_review = X_test.last_review.apply(lambda x:x.toordinal())"
   ]
  },
  {
   "cell_type": "code",
   "execution_count": 110,
   "metadata": {
    "id": "CKo0cKI30LlY"
   },
   "outputs": [],
   "source": [
    "# Using the Forest Regressor model \n",
    "# transform the test set \n",
    "X_test_transformed = pipeline.transform(X_test)\n"
   ]
  },
  {
   "cell_type": "markdown",
   "metadata": {
    "id": "0H_7oWMoVulQ"
   },
   "source": [
    "### Random Forest Regressor"
   ]
  },
  {
   "cell_type": "code",
   "execution_count": 111,
   "metadata": {
    "colab": {
     "base_uri": "https://localhost:8080/"
    },
    "id": "8cpUZcUP0O9V",
    "outputId": "2a4b21d2-ac10-4803-bd95-bca763a0c9dc"
   },
   "outputs": [
    {
     "name": "stdout",
     "output_type": "stream",
     "text": [
      "Fitting 4 folds for each of 7 candidates, totalling 28 fits\n"
     ]
    }
   ],
   "source": [
    "from sklearn.ensemble import RandomForestRegressor \n",
    "\n",
    "# Fit\n",
    "rand.fit(X_test_transformed, y_test)\n",
    "# predict on the test set\n",
    "y_pred_test_Forest = rand.predict(X_test_transformed)"
   ]
  },
  {
   "cell_type": "code",
   "execution_count": 112,
   "metadata": {
    "colab": {
     "base_uri": "https://localhost:8080/"
    },
    "id": "OjBxeLyzU6M0",
    "outputId": "1af90dcf-eac4-4270-9335-ce5a1f84c224"
   },
   "outputs": [
    {
     "name": "stdout",
     "output_type": "stream",
     "text": [
      "Mean Absolute Error on Test Set: 35.11273166117366\n"
     ]
    }
   ],
   "source": [
    "print('Mean Absolute Error on Test Set:', mean_absolute_error(y_test, y_pred_test_Forest))"
   ]
  },
  {
   "cell_type": "code",
   "execution_count": 113,
   "metadata": {
    "colab": {
     "base_uri": "https://localhost:8080/"
    },
    "id": "yk4FT7aUU2VL",
    "outputId": "481c4886-ed34-4279-c6dd-48f53dfeaa43"
   },
   "outputs": [
    {
     "name": "stdout",
     "output_type": "stream",
     "text": [
      "R2 score: 0.8786522721917472\n"
     ]
    }
   ],
   "source": [
    "r2 = r2_score(y_test, y_pred_test_Forest)\n",
    "\n",
    "print(\"R2 score:\", r2)"
   ]
  },
  {
   "cell_type": "code",
   "execution_count": 114,
   "metadata": {
    "id": "xrv2kbq-hkdF"
   },
   "outputs": [],
   "source": [
    "# # num_folds=3\n",
    "# HPT_rand_scores = (-cross_val_score(rand, X_test_transformed, y_test,cv = num_folds,n_jobs=3, scoring='neg_mean_absolute_error'))\n",
    "# HPT_rand_scores.mean()"
   ]
  },
  {
   "cell_type": "markdown",
   "metadata": {
    "id": "wRUi53b1V4RY"
   },
   "source": [
    "### Gradiant Boosting Regressor"
   ]
  },
  {
   "cell_type": "code",
   "execution_count": 115,
   "metadata": {
    "colab": {
     "base_uri": "https://localhost:8080/"
    },
    "id": "Zd_Ztv6JUOql",
    "outputId": "13e905d5-e452-48a6-e597-73e36005e392"
   },
   "outputs": [
    {
     "name": "stdout",
     "output_type": "stream",
     "text": [
      "Fitting 4 folds for each of 7 candidates, totalling 28 fits\n",
      "[CV 1/4; 1/7] START max_depth=12, max_features=0.7965429868602328, n_estimators=74\n",
      "[CV 1/4; 1/7] END max_depth=12, max_features=0.7965429868602328, n_estimators=74;, score=-55.249 total time=   6.5s\n",
      "[CV 2/4; 1/7] START max_depth=12, max_features=0.7965429868602328, n_estimators=74\n",
      "[CV 2/4; 1/7] END max_depth=12, max_features=0.7965429868602328, n_estimators=74;, score=-57.440 total time=   6.4s\n",
      "[CV 3/4; 1/7] START max_depth=12, max_features=0.7965429868602328, n_estimators=74\n",
      "[CV 3/4; 1/7] END max_depth=12, max_features=0.7965429868602328, n_estimators=74;, score=-57.278 total time=   6.4s\n",
      "[CV 4/4; 1/7] START max_depth=12, max_features=0.7965429868602328, n_estimators=74\n",
      "[CV 4/4; 1/7] END max_depth=12, max_features=0.7965429868602328, n_estimators=74;, score=-56.050 total time=   6.5s\n",
      "[CV 1/4; 2/7] START max_depth=12, max_features=0.7796910002727693, n_estimators=80\n",
      "[CV 1/4; 2/7] END max_depth=12, max_features=0.7796910002727693, n_estimators=80;, score=-55.555 total time=   6.8s\n",
      "[CV 2/4; 2/7] START max_depth=12, max_features=0.7796910002727693, n_estimators=80\n",
      "[CV 2/4; 2/7] END max_depth=12, max_features=0.7796910002727693, n_estimators=80;, score=-57.116 total time=   6.8s\n",
      "[CV 3/4; 2/7] START max_depth=12, max_features=0.7796910002727693, n_estimators=80\n",
      "[CV 3/4; 2/7] END max_depth=12, max_features=0.7796910002727693, n_estimators=80;, score=-57.229 total time=   6.8s\n",
      "[CV 4/4; 2/7] START max_depth=12, max_features=0.7796910002727693, n_estimators=80\n",
      "[CV 4/4; 2/7] END max_depth=12, max_features=0.7796910002727693, n_estimators=80;, score=-55.983 total time=   6.9s\n",
      "[CV 1/4; 3/7] START max_depth=12, max_features=0.44583275285359114, n_estimators=82\n",
      "[CV 1/4; 3/7] END max_depth=12, max_features=0.44583275285359114, n_estimators=82;, score=-53.860 total time=   4.1s\n",
      "[CV 2/4; 3/7] START max_depth=12, max_features=0.44583275285359114, n_estimators=82\n",
      "[CV 2/4; 3/7] END max_depth=12, max_features=0.44583275285359114, n_estimators=82;, score=-55.376 total time=   4.0s\n",
      "[CV 3/4; 3/7] START max_depth=12, max_features=0.44583275285359114, n_estimators=82\n",
      "[CV 3/4; 3/7] END max_depth=12, max_features=0.44583275285359114, n_estimators=82;, score=-57.464 total time=   4.0s\n",
      "[CV 4/4; 3/7] START max_depth=12, max_features=0.44583275285359114, n_estimators=82\n",
      "[CV 4/4; 3/7] END max_depth=12, max_features=0.44583275285359114, n_estimators=82;, score=-55.214 total time=   4.0s\n",
      "[CV 1/4; 4/7] START max_depth=12, max_features=0.45924889196586716, n_estimators=95\n",
      "[CV 1/4; 4/7] END max_depth=12, max_features=0.45924889196586716, n_estimators=95;, score=-54.209 total time=   5.5s\n",
      "[CV 2/4; 4/7] START max_depth=12, max_features=0.45924889196586716, n_estimators=95\n",
      "[CV 2/4; 4/7] END max_depth=12, max_features=0.45924889196586716, n_estimators=95;, score=-56.297 total time=   5.1s\n",
      "[CV 3/4; 4/7] START max_depth=12, max_features=0.45924889196586716, n_estimators=95\n",
      "[CV 3/4; 4/7] END max_depth=12, max_features=0.45924889196586716, n_estimators=95;, score=-56.092 total time=   4.9s\n",
      "[CV 4/4; 4/7] START max_depth=12, max_features=0.45924889196586716, n_estimators=95\n",
      "[CV 4/4; 4/7] END max_depth=12, max_features=0.45924889196586716, n_estimators=95;, score=-55.109 total time=   4.9s\n",
      "[CV 1/4; 5/7] START max_depth=13, max_features=0.7080725777960455, n_estimators=81\n",
      "[CV 1/4; 5/7] END max_depth=13, max_features=0.7080725777960455, n_estimators=81;, score=-54.635 total time=   6.8s\n",
      "[CV 2/4; 5/7] START max_depth=13, max_features=0.7080725777960455, n_estimators=81\n",
      "[CV 2/4; 5/7] END max_depth=13, max_features=0.7080725777960455, n_estimators=81;, score=-56.596 total time=   6.8s\n",
      "[CV 3/4; 5/7] START max_depth=13, max_features=0.7080725777960455, n_estimators=81\n",
      "[CV 3/4; 5/7] END max_depth=13, max_features=0.7080725777960455, n_estimators=81;, score=-57.177 total time=   6.9s\n",
      "[CV 4/4; 5/7] START max_depth=13, max_features=0.7080725777960455, n_estimators=81\n",
      "[CV 4/4; 5/7] END max_depth=13, max_features=0.7080725777960455, n_estimators=81;, score=-55.791 total time=   6.7s\n",
      "[CV 1/4; 6/7] START max_depth=8, max_features=0.9699098521619943, n_estimators=103\n",
      "[CV 1/4; 6/7] END max_depth=8, max_features=0.9699098521619943, n_estimators=103;, score=-54.570 total time=   7.3s\n",
      "[CV 2/4; 6/7] START max_depth=8, max_features=0.9699098521619943, n_estimators=103\n",
      "[CV 2/4; 6/7] END max_depth=8, max_features=0.9699098521619943, n_estimators=103;, score=-55.252 total time=   7.3s\n",
      "[CV 3/4; 6/7] START max_depth=8, max_features=0.9699098521619943, n_estimators=103\n",
      "[CV 3/4; 6/7] END max_depth=8, max_features=0.9699098521619943, n_estimators=103;, score=-54.807 total time=   7.3s\n",
      "[CV 4/4; 6/7] START max_depth=8, max_features=0.9699098521619943, n_estimators=103\n",
      "[CV 4/4; 6/7] END max_depth=8, max_features=0.9699098521619943, n_estimators=103;, score=-53.294 total time=   7.3s\n",
      "[CV 1/4; 7/7] START max_depth=11, max_features=0.21233911067827616, n_estimators=80\n",
      "[CV 1/4; 7/7] END max_depth=11, max_features=0.21233911067827616, n_estimators=80;, score=-54.749 total time=   1.7s\n",
      "[CV 2/4; 7/7] START max_depth=11, max_features=0.21233911067827616, n_estimators=80\n",
      "[CV 2/4; 7/7] END max_depth=11, max_features=0.21233911067827616, n_estimators=80;, score=-56.072 total time=   1.7s\n",
      "[CV 3/4; 7/7] START max_depth=11, max_features=0.21233911067827616, n_estimators=80\n",
      "[CV 3/4; 7/7] END max_depth=11, max_features=0.21233911067827616, n_estimators=80;, score=-56.672 total time=   1.7s\n",
      "[CV 4/4; 7/7] START max_depth=11, max_features=0.21233911067827616, n_estimators=80\n",
      "[CV 4/4; 7/7] END max_depth=11, max_features=0.21233911067827616, n_estimators=80;, score=-56.178 total time=   1.7s\n"
     ]
    }
   ],
   "source": [
    "rand2.fit(X_test_transformed, y_test)\n",
    "\n",
    "# train set\n",
    "y_pred_test_grad = rand2.predict(X_test_transformed)"
   ]
  },
  {
   "cell_type": "code",
   "execution_count": 116,
   "metadata": {
    "colab": {
     "base_uri": "https://localhost:8080/"
    },
    "id": "82sCzXVTWFNE",
    "outputId": "8c1d92f3-30a5-4de7-8274-5f5282fbf336"
   },
   "outputs": [
    {
     "name": "stdout",
     "output_type": "stream",
     "text": [
      "Mean Absolute Error on Training Set: 20.704362587950055\n"
     ]
    }
   ],
   "source": [
    "print('Mean Absolute Error on Training Set:', mean_absolute_error(y_test, y_pred_test_grad))"
   ]
  },
  {
   "cell_type": "code",
   "execution_count": 117,
   "metadata": {
    "id": "NGKQ3yFN6_FJ"
   },
   "outputs": [],
   "source": [
    "# Normal Gradient Boosting"
   ]
  },
  {
   "cell_type": "code",
   "execution_count": 118,
   "metadata": {
    "id": "DYmTuHZ77FNK"
   },
   "outputs": [],
   "source": [
    "gbrt.fit(X_test_transformed, y_test)\n",
    "\n",
    "# train set\n",
    "y_pred_test_grad = gbrt.predict(X_test_transformed)"
   ]
  },
  {
   "cell_type": "code",
   "execution_count": 119,
   "metadata": {
    "colab": {
     "base_uri": "https://localhost:8080/"
    },
    "id": "qZAedd8t7Cjb",
    "outputId": "aa294891-6e45-4635-ae61-9cb7221b31f2"
   },
   "outputs": [
    {
     "name": "stdout",
     "output_type": "stream",
     "text": [
      "Mean Absolute Error on Training Set: 20.515251115385272\n"
     ]
    }
   ],
   "source": [
    "print('Mean Absolute Error on Training Set:', mean_absolute_error(y_test, y_pred_test_grad))"
   ]
  },
  {
   "cell_type": "code",
   "execution_count": 120,
   "metadata": {
    "colab": {
     "base_uri": "https://localhost:8080/"
    },
    "id": "1fvtBv7TT_V8",
    "outputId": "f9069bca-d207-4556-e9bc-1af837b9ba9f"
   },
   "outputs": [
    {
     "name": "stdout",
     "output_type": "stream",
     "text": [
      "R2 score: 0.9618525726946539\n"
     ]
    }
   ],
   "source": [
    "r2 = r2_score(y_test, y_pred_test_grad)\n",
    "\n",
    "print(\"R2 score:\", r2)"
   ]
  },
  {
   "cell_type": "code",
   "execution_count": 121,
   "metadata": {
    "id": "Ro4NDIHUh5aV"
   },
   "outputs": [
    {
     "name": "stdout",
     "output_type": "stream",
     "text": [
      "[CV 2/4; 2/7] START max_depth=12, max_features=0.7796910002727693, n_estimators=80\n",
      "[CV 2/4; 2/7] END max_depth=12, max_features=0.7796910002727693, n_estimators=80;, score=-56.636 total time=   6.6s\n",
      "[CV 1/4; 4/7] START max_depth=12, max_features=0.45924889196586716, n_estimators=95\n",
      "[CV 1/4; 4/7] END max_depth=12, max_features=0.45924889196586716, n_estimators=95;, score=-54.785 total time=   4.9s\n",
      "[CV 1/4; 6/7] START max_depth=8, max_features=0.9699098521619943, n_estimators=103\n",
      "[CV 1/4; 6/7] END max_depth=8, max_features=0.9699098521619943, n_estimators=103;, score=-56.734 total time=   7.1s\n",
      "[CV 4/4; 1/7] START max_depth=12, max_features=0.7965429868602328, n_estimators=74\n",
      "[CV 4/4; 1/7] END max_depth=12, max_features=0.7965429868602328, n_estimators=74;, score=-56.294 total time=   6.2s\n",
      "[CV 2/4; 3/7] START max_depth=12, max_features=0.44583275285359114, n_estimators=82\n",
      "[CV 2/4; 3/7] END max_depth=12, max_features=0.44583275285359114, n_estimators=82;, score=-56.835 total time=   4.0s\n",
      "[CV 1/4; 5/7] START max_depth=13, max_features=0.7080725777960455, n_estimators=81\n",
      "[CV 1/4; 5/7] END max_depth=13, max_features=0.7080725777960455, n_estimators=81;, score=-55.354 total time=   6.7s\n",
      "[CV 2/4; 7/7] START max_depth=11, max_features=0.21233911067827616, n_estimators=80\n",
      "[CV 2/4; 7/7] END max_depth=11, max_features=0.21233911067827616, n_estimators=80;, score=-58.051 total time=   1.8s\n",
      "[CV 2/4; 1/7] START max_depth=12, max_features=0.7965429868602328, n_estimators=74\n",
      "[CV 2/4; 1/7] END max_depth=12, max_features=0.7965429868602328, n_estimators=74;, score=-56.356 total time=   6.3s\n",
      "[CV 4/4; 3/7] START max_depth=12, max_features=0.44583275285359114, n_estimators=82\n",
      "[CV 4/4; 3/7] END max_depth=12, max_features=0.44583275285359114, n_estimators=82;, score=-55.672 total time=   4.1s\n",
      "[CV 4/4; 5/7] START max_depth=13, max_features=0.7080725777960455, n_estimators=81\n",
      "[CV 4/4; 5/7] END max_depth=13, max_features=0.7080725777960455, n_estimators=81;, score=-56.384 total time=   6.7s\n",
      "[CV 4/4; 7/7] START max_depth=11, max_features=0.21233911067827616, n_estimators=80\n",
      "[CV 4/4; 7/7] END max_depth=11, max_features=0.21233911067827616, n_estimators=80;, score=-58.430 total time=   1.8s\n",
      "[CV 3/4; 1/7] START max_depth=12, max_features=0.7965429868602328, n_estimators=74\n",
      "[CV 3/4; 1/7] END max_depth=12, max_features=0.7965429868602328, n_estimators=74;, score=-58.176 total time=   6.3s\n",
      "[CV 3/4; 3/7] START max_depth=12, max_features=0.44583275285359114, n_estimators=82\n",
      "[CV 3/4; 3/7] END max_depth=12, max_features=0.44583275285359114, n_estimators=82;, score=-57.798 total time=   4.0s\n",
      "[CV 3/4; 5/7] START max_depth=13, max_features=0.7080725777960455, n_estimators=81\n",
      "[CV 3/4; 5/7] END max_depth=13, max_features=0.7080725777960455, n_estimators=81;, score=-57.670 total time=   6.6s\n",
      "[CV 3/4; 7/7] START max_depth=11, max_features=0.21233911067827616, n_estimators=80\n",
      "[CV 3/4; 7/7] END max_depth=11, max_features=0.21233911067827616, n_estimators=80;, score=-60.414 total time=   1.8s\n",
      "[CV 1/4; 1/7] START max_depth=12, max_features=0.7965429868602328, n_estimators=74\n",
      "[CV 1/4; 1/7] END max_depth=12, max_features=0.7965429868602328, n_estimators=74;, score=-54.971 total time=   6.2s\n",
      "[CV 1/4; 3/7] START max_depth=12, max_features=0.44583275285359114, n_estimators=82\n",
      "[CV 1/4; 3/7] END max_depth=12, max_features=0.44583275285359114, n_estimators=82;, score=-54.247 total time=   4.0s\n",
      "[CV 2/4; 5/7] START max_depth=13, max_features=0.7080725777960455, n_estimators=81\n",
      "[CV 2/4; 5/7] END max_depth=13, max_features=0.7080725777960455, n_estimators=81;, score=-55.978 total time=   6.7s\n",
      "[CV 1/4; 7/7] START max_depth=11, max_features=0.21233911067827616, n_estimators=80\n",
      "[CV 1/4; 7/7] END max_depth=11, max_features=0.21233911067827616, n_estimators=80;, score=-56.415 total time=   1.8s\n",
      "[CV 1/4; 2/7] START max_depth=12, max_features=0.7796910002727693, n_estimators=80\n",
      "[CV 1/4; 2/7] END max_depth=12, max_features=0.7796910002727693, n_estimators=80;, score=-55.241 total time=   6.7s\n",
      "[CV 3/4; 4/7] START max_depth=12, max_features=0.45924889196586716, n_estimators=95\n",
      "[CV 3/4; 4/7] END max_depth=12, max_features=0.45924889196586716, n_estimators=95;, score=-57.824 total time=   5.0s\n",
      "[CV 3/4; 6/7] START max_depth=8, max_features=0.9699098521619943, n_estimators=103\n",
      "[CV 3/4; 6/7] END max_depth=8, max_features=0.9699098521619943, n_estimators=103;, score=-59.973 total time=   7.1s\n",
      "[CV 3/4; 2/7] START max_depth=12, max_features=0.7796910002727693, n_estimators=80\n",
      "[CV 3/4; 2/7] END max_depth=12, max_features=0.7796910002727693, n_estimators=80;, score=-57.810 total time=   6.7s\n",
      "[CV 4/4; 4/7] START max_depth=12, max_features=0.45924889196586716, n_estimators=95\n",
      "[CV 4/4; 4/7] END max_depth=12, max_features=0.45924889196586716, n_estimators=95;, score=-56.313 total time=   5.0s\n",
      "[CV 4/4; 6/7] START max_depth=8, max_features=0.9699098521619943, n_estimators=103\n",
      "[CV 4/4; 6/7] END max_depth=8, max_features=0.9699098521619943, n_estimators=103;, score=-58.498 total time=   7.1s\n",
      "[CV 4/4; 2/7] START max_depth=12, max_features=0.7796910002727693, n_estimators=80\n",
      "[CV 4/4; 2/7] END max_depth=12, max_features=0.7796910002727693, n_estimators=80;, score=-56.354 total time=   6.6s\n",
      "[CV 2/4; 4/7] START max_depth=12, max_features=0.45924889196586716, n_estimators=95\n",
      "[CV 2/4; 4/7] END max_depth=12, max_features=0.45924889196586716, n_estimators=95;, score=-56.915 total time=   4.9s\n",
      "[CV 2/4; 6/7] START max_depth=8, max_features=0.9699098521619943, n_estimators=103\n",
      "[CV 2/4; 6/7] END max_depth=8, max_features=0.9699098521619943, n_estimators=103;, score=-58.605 total time=   7.2s\n"
     ]
    },
    {
     "data": {
      "text/plain": [
       "55.11524828664153"
      ]
     },
     "execution_count": 121,
     "metadata": {},
     "output_type": "execute_result"
    }
   ],
   "source": [
    "num_folds = 3\n",
    "HPT_rand2_scores = (-cross_val_score(rand2, X_test_transformed, y_test,cv = num_folds,n_jobs=3, scoring='neg_mean_absolute_error'))\n",
    "HPT_rand2_scores.mean()"
   ]
  },
  {
   "cell_type": "code",
   "execution_count": 123,
   "metadata": {},
   "outputs": [
    {
     "name": "stdout",
     "output_type": "stream",
     "text": [
      "Collecting prettytable\n",
      "  Downloading prettytable-3.7.0-py3-none-any.whl (27 kB)\n",
      "Requirement already satisfied: wcwidth in /Users/niral/opt/anaconda3/lib/python3.9/site-packages (from prettytable) (0.2.5)\n",
      "Installing collected packages: prettytable\n",
      "Successfully installed prettytable-3.7.0\n",
      "Note: you may need to restart the kernel to use updated packages.\n"
     ]
    }
   ],
   "source": [
    "pip install prettytable"
   ]
  },
  {
   "cell_type": "markdown",
   "metadata": {},
   "source": [
    "###  Blend"
   ]
  },
  {
   "cell_type": "code",
   "execution_count": 125,
   "metadata": {
    "id": "BqNfTrdvUwjh"
   },
   "outputs": [],
   "source": [
    "# HyperTunes Random forest and gradient boosting\n",
    "y_PRED_BLEND_new = (y_pred_test_Forest+y_pred_test_grad)/2"
   ]
  },
  {
   "cell_type": "code",
   "execution_count": 126,
   "metadata": {
    "colab": {
     "base_uri": "https://localhost:8080/"
    },
    "id": "abRaZRiNVSQm",
    "outputId": "8e5a5005-ebb8-428a-9a2c-149c96f13cae"
   },
   "outputs": [
    {
     "name": "stdout",
     "output_type": "stream",
     "text": [
      "Mean Absolute Error on Training Set: 27.13911435607991\n"
     ]
    }
   ],
   "source": [
    "print('Mean Absolute Error on Training Set:', mean_absolute_error(y_test, y_PRED_BLEND_new))"
   ]
  },
  {
   "cell_type": "code",
   "execution_count": 128,
   "metadata": {
    "colab": {
     "base_uri": "https://localhost:8080/"
    },
    "id": "9uuD_Qu-VYXM",
    "outputId": "a37da29e-e9f1-4318-8339-58678b2aafe7"
   },
   "outputs": [
    {
     "name": "stdout",
     "output_type": "stream",
     "text": [
      "R2 score: 0.932064946130202\n"
     ]
    }
   ],
   "source": [
    "r2 = r2_score(y_test, y_PRED_BLEND_new_test)\n",
    "\n",
    "print(\"R2 score:\", r2)"
   ]
  },
  {
   "cell_type": "code",
   "execution_count": 136,
   "metadata": {
    "colab": {
     "base_uri": "https://localhost:8080/"
    },
    "id": "A5t1A1HOj45Z",
    "outputId": "bcc3b201-e29c-4934-b98a-c44952eedaa0"
   },
   "outputs": [
    {
     "name": "stdout",
     "output_type": "stream",
     "text": [
      "+-------------------------------------+--------------------+--------------------+--------------------+\n",
      "|                Model                |    Training MAE    |      Test MAE      |      R2_score      |\n",
      "+-------------------------------------+--------------------+--------------------+--------------------+\n",
      "| Hyper Parameter Tuned Random Forest | 39.00689116687811  | 35.11273166117366  | 0.8786522721917472 |\n",
      "|          Gradient Boosting          | 31.687216708810624 | 20.515251115385272 | 0.9618525726946539 |\n",
      "|               Blending              |  34.5429263221934  | 27.13911435607991  | 0.932064946130202  |\n",
      "+-------------------------------------+--------------------+--------------------+--------------------+\n"
     ]
    }
   ],
   "source": [
    "from prettytable import PrettyTable\n",
    "from sklearn.metrics import mean_absolute_error\n",
    "\n",
    "# Calculate mean absolute error for all models on training and test sets\n",
    "mae_train_rand = mean_absolute_error(y_train, y_pred_rand)\n",
    "mae_train_rand2 = mean_absolute_error(y_train, y_pred_train_grad)\n",
    "mae_test_forest = mean_absolute_error(y_test, y_pred_test_Forest)\n",
    "mae_test_grad = mean_absolute_error(y_test, y_pred_test_grad)\n",
    "\n",
    "# Create a table to display the results\n",
    "table = PrettyTable()\n",
    "table.field_names = [\"Model\", \"Training MAE\", \"Test MAE\", 'R2_score']\n",
    "table.add_row([\"Hyper Parameter Tuned Random Forest\", mae_train_rand, mae_test_forest,r2_score(y_test, y_pred_test_Forest)])\n",
    "table.add_row([\"Gradient Boosting\", mae_train_rand2, mae_test_grad,r2_score(y_test, y_pred_test_grad)])\n",
    "table.add_row([\"Blending\", mean_absolute_error(y_train, y_PRED_BLEND_new_train), mean_absolute_error(y_test, y_PRED_BLEND_new_test), r2_score(y_test, y_PRED_BLEND_new_test) ] )\n",
    "# Print the table\n",
    "print(table)"
   ]
  },
  {
   "cell_type": "markdown",
   "metadata": {},
   "source": [
    "### Gains chart for training data"
   ]
  },
  {
   "cell_type": "code",
   "execution_count": 139,
   "metadata": {},
   "outputs": [
    {
     "data": {
      "image/png": "[encoded data removed]",
      "text/plain": [
       "<Figure size 640x480 with 1 Axes>"
      ]
     },
     "metadata": {},
     "output_type": "display_data"
    }
   ],
   "source": [
    "# mean_absolute_error(y_test, y_pred_test_Forest)\n",
    "# mean_absolute_error(y_test, y_pred_test_grad)\n",
    "# mean_absolute_error(y_test, y_PRED_BLEND_new_test)\n",
    "# r2_score(y_test, y_pred_test_Forest)\n",
    "# r2_score(y_test, y_pred_test_grad)\n",
    "# r2_score(y_test, y_PRED_BLEND_new_test)\n",
    "import numpy as np\n",
    "import pandas as pd\n",
    "import matplotlib.pyplot as plt\n",
    "from sklearn.metrics import mean_absolute_error, r2_score\n",
    "\n",
    "# # define the model predictions\n",
    "# y_pred_rand = [1.23, 4.56, 2.34, 7.89, 5.67, 8.91, 6.78, 10.12]\n",
    "# y_pred_train_grad = [0.92, 5.68, 3.45, 8.32, 6.49, 9.11, 7.58, 10.02]\n",
    "# y_PRED_BLEND_new_train = [0.81, 5.43, 3.14, 8.22, 6.29, 9.45, 7.12, 10.56]\n",
    "\n",
    "# y_train = [1.34, 4.23, 2.98, 8.12, 5.89, 9.23, 7.65, 11.09]\n",
    "\n",
    "# compute the mean absolute error and R2 score for each model\n",
    "mae_rand = mean_absolute_error(y_train, y_pred_rand)\n",
    "mae_grad = mean_absolute_error(y_train, y_pred_train_grad)\n",
    "mae_blend = mean_absolute_error(y_train, y_PRED_BLEND_new_train)\n",
    "\n",
    "r2_rand = r2_score(y_train, y_pred_rand)\n",
    "r2_grad = r2_score(y_train, y_pred_train_grad)\n",
    "r2_blend = r2_score(y_train, y_PRED_BLEND_new_train)\n",
    "\n",
    "# sort the predictions and actual values by predicted value\n",
    "train_data = pd.DataFrame({'actual': y_train, 'rand': y_pred_rand, 'grad': y_pred_train_grad, 'blend': y_PRED_BLEND_new_train})\n",
    "train_data = train_data.sort_values(by='blend', ascending=False).reset_index(drop=True)\n",
    "\n",
    "train_data['cumulative_rand'] = train_data['actual'].cumsum() / train_data['actual'].sum()\n",
    "train_data['cumulative_grad'] = train_data['grad'].cumsum() / train_data['actual'].sum()\n",
    "train_data['cumulative_blend'] = train_data['blend'].cumsum() / train_data['actual'].sum()\n",
    "\n",
    "plt.plot(train_data.index+1, train_data['cumulative_rand'], 'k--', label='Random')\n",
    "plt.plot(train_data.index+1, train_data['cumulative_grad'], 'r', label='Gradient Boosting')\n",
    "plt.plot(train_data.index+1, train_data['cumulative_blend'], 'b', label='Blended')\n",
    "plt.legend()\n",
    "plt.xlabel('Percentage of Total Observations')\n",
    "plt.ylabel('Cumulative Gains')\n",
    "plt.title('Gains Chart - Model Comparison')\n",
    "plt.show()\n"
   ]
  },
  {
   "cell_type": "markdown",
   "metadata": {},
   "source": [
    "### Gains chart for test data "
   ]
  },
  {
   "cell_type": "code",
   "execution_count": 140,
   "metadata": {},
   "outputs": [
    {
     "data": {
      "image/png": "[encoded data removed]",
      "text/plain": [
       "<Figure size 640x480 with 1 Axes>"
      ]
     },
     "metadata": {},
     "output_type": "display_data"
    }
   ],
   "source": [
    "import numpy as np\n",
    "import pandas as pd\n",
    "import matplotlib.pyplot as plt\n",
    "from sklearn.metrics import mean_absolute_error, r2_score\n",
    "\n",
    "# define the model predictions\n",
    "# y_pred_test_Forest = [4.56, 5.67, 6.78, 8.91]\n",
    "# y_pred_test_grad = [5.68, 6.49, 7.58, 9.11]\n",
    "# y_PRED_BLEND_new_test = [5.43, 6.29, 7.12, 9.45]\n",
    "\n",
    "# y_test = [4.23, 5.89, 7.65, 9.23]\n",
    "\n",
    "# compute the mean absolute error and R2 score for each model\n",
    "mae_forest = mean_absolute_error(y_test, y_pred_test_Forest)\n",
    "mae_grad = mean_absolute_error(y_test, y_pred_test_grad)\n",
    "mae_blend = mean_absolute_error(y_test, y_PRED_BLEND_new_test)\n",
    "\n",
    "r2_forest = r2_score(y_test, y_pred_test_Forest)\n",
    "r2_grad = r2_score(y_test, y_pred_test_grad)\n",
    "r2_blend = r2_score(y_test, y_PRED_BLEND_new_test)\n",
    "\n",
    "# sort the predictions and actual values by predicted value\n",
    "test_data = pd.DataFrame({'actual': y_test, 'rand': y_pred_test_Forest, 'grad': y_pred_test_grad, 'blend': y_PRED_BLEND_new_test})\n",
    "test_data = test_data.sort_values(by='blend', ascending=False).reset_index(drop=True)\n",
    "\n",
    "test_data['cumulative_rand'] = test_data['actual'].cumsum() / test_data['actual'].sum()\n",
    "test_data['cumulative_grad'] = test_data['grad'].cumsum() / test_data['actual'].sum()\n",
    "test_data['cumulative_blend'] = test_data['blend'].cumsum() / test_data['actual'].sum()\n",
    "\n",
    "plt.plot(test_data.index+1, test_data['cumulative_rand'], 'k--', label='Random')\n",
    "plt.plot(test_data.index+1, test_data['cumulative_grad'], 'r', label='Gradient Boosting')\n",
    "plt.plot(test_data.index+1, test_data['cumulative_blend'], 'b', label='Blended')\n",
    "plt.legend()\n",
    "plt.xlabel('Percentage of Total Observations')\n",
    "plt.ylabel('Cumulative Gains')\n",
    "plt.title('Gains Chart - Test Set Comparison')\n",
    "plt.show()\n"
   ]
  },
  {
   "cell_type": "code",
   "execution_count": null,
   "metadata": {},
   "outputs": [],
   "source": []
  },
  {
   "cell_type": "code",
   "execution_count": null,
   "metadata": {},
   "outputs": [],
   "source": []
  },
  {
   "cell_type": "code",
   "execution_count": null,
   "metadata": {},
   "outputs": [],
   "source": []
  }
 ],
 "metadata": {
  "colab": {
   "collapsed_sections": [
    "779lSr23-GfZ",
    "4ylpUt4rpxml",
    "9ndS2Ej7RW8L"
   ],
   "provenance": []
  },
  "kernelspec": {
   "display_name": "Python 3 (ipykernel)",
   "language": "python",
   "name": "python3"
  },
  "language_info": {
   "codemirror_mode": {
    "name": "ipython",
    "version": 3
   },
   "file_extension": ".py",
   "mimetype": "text/x-python",
   "name": "python",
   "nbconvert_exporter": "python",
   "pygments_lexer": "ipython3",
   "version": "3.9.13"
  }
 },
 "nbformat": 4,
 "nbformat_minor": 1
}
